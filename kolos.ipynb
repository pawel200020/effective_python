{
 "cells": [
  {
   "cell_type": "code",
   "execution_count": 22,
   "metadata": {},
   "outputs": [
    {
     "name": "stdout",
     "output_type": "stream",
     "text": [
      "[(4887871, 'Alabama'), (39865590, 'California'), (1420491, 'Hawaii'), (19542209, 'New York'), (626299, 'Vermont'), (1805832, 'West Virginia')]\n"
     ]
    }
   ],
   "source": [
    "st=[(19542209, \"New York\") ,(4887871, \"Alabama\"), (1420491, \"Hawaii\"), (626299, \"Vermont\"), (1805832, \"West Virginia\"), (39865590, \"California\")]\n",
    "print(sorted(st,key=lambda x: x[1]))"
   ]
  },
  {
   "cell_type": "code",
   "execution_count": 24,
   "metadata": {},
   "outputs": [
    {
     "name": "stdout",
     "output_type": "stream",
     "text": [
      "Nie znaleziono!\n",
      "Nie znaleziono!\n"
     ]
    }
   ],
   "source": [
    "target = 'd'\n",
    "zbior = ['a', 'b', 'g', 'p']\n",
    "jest = False\n",
    "for letter in zbior:\n",
    "    if target == letter:\n",
    "        print('Znaleziono')\n",
    "        jest  = True\n",
    "        break\n",
    "if not jest:\n",
    "    print('Nie znaleziono!')\n",
    "\n",
    "\n",
    "print(\"znaleziono\" if any([x for x in zbior if x==target]) else 'Nie znaleziono!')\n"
   ]
  },
  {
   "cell_type": "code",
   "execution_count": 33,
   "metadata": {},
   "outputs": [
    {
     "data": {
      "text/plain": [
       "True"
      ]
     },
     "execution_count": 33,
     "metadata": {},
     "output_type": "execute_result"
    }
   ],
   "source": [
    "l= [[1, 2, 3], [4], [6, 7, 8, 9]]\n",
    "def func2(list):\n",
    "    return [item for sublist in list for item in sublist]\n",
    "\n",
    "func2([[1, 2, 3], [4], [6, 7, 8, 9]]) == [1, 2, 3, 4, 6, 7, 8, 9]\n",
    "#func2([[1, 2, 3], [4], [6, 7, 8, 9], [9, 10, 11]]) == [1, 2, 3, 4, 6, 7, 8, 9, 9, 10, 11]\n"
   ]
  },
  {
   "cell_type": "code",
   "execution_count": 37,
   "metadata": {},
   "outputs": [
    {
     "name": "stdout",
     "output_type": "stream",
     "text": [
      "1.118033988749895 \n",
      "\n",
      "1.118033988749895\n",
      "0.0 \n",
      "\n",
      "0.0\n",
      "0.0 \n",
      "\n",
      "0.0\n",
      "4187.841777097125 \n",
      "\n",
      "4187.841777097125\n"
     ]
    }
   ],
   "source": [
    "import numpy as np\n",
    "tests = [[0,1,2,3], [2,2,2,2], [0], [10,100,1000,10000]]\n",
    "def std(list):\n",
    "    return (sum((x-(sum(list) / len(list)))**2 for x in list) / (len(list)))**0.5\n",
    "for test in tests:\n",
    "    print(std(test),'\\n')\n",
    "    print(np.std(test))"
   ]
  },
  {
   "cell_type": "code",
   "execution_count": null,
   "metadata": {},
   "outputs": [],
   "source": [
    "import math\n",
    "def variance(data, ddof=0):\n",
    "    n = len(data)\n",
    "    mean = sum(data) / n\n",
    "    return sum((x - mean) ** 2 for x in data) / (n - ddof)\n",
    "def stdev(data):\n",
    "    var = variance(data)\n",
    "    std_dev = math.sqrt(var)\n",
    "    return  stdev([4, 8, 6, 5, 3, 2, 8, 9, 2, 5])"
   ]
  },
  {
   "cell_type": "code",
   "execution_count": 48,
   "metadata": {},
   "outputs": [
    {
     "name": "stdout",
     "output_type": "stream",
     "text": [
      "0\n"
     ]
    }
   ],
   "source": [
    "import math\n",
    "def is_square(apositiveint):\n",
    "  x = apositiveint // 2\n",
    "  seen = set([x])\n",
    "  while x * x != apositiveint:\n",
    "    x = (x + (apositiveint // x)) // 2\n",
    "    if x in seen: return False\n",
    "    seen.add(x)\n",
    "  return True\n",
    "def sum_sqrt(list):\n",
    "    return int(sum(map(lambda x: math.sqrt(x),(filter(lambda x: is_square(x),list)))))\n",
    "\n",
    "print(sum_sqrt([2,3,5]))\n",
    "# tests = [[2,3,5], [4], [4,9,16], [99,100,101]]\n",
    "# answers = [0,2, 9, 10]\n",
    "# for test in zip(tests,answers):\n",
    "#     a = str(test[0])\n",
    "#     assert(sum_sqrt(test[0]) == test[1])\n",
    "#     print(\"assert(sum_sqrt({}))=={})\".format(test[0], test[1]))"
   ]
  },
  {
   "cell_type": "code",
   "execution_count": 52,
   "metadata": {},
   "outputs": [
    {
     "name": "stdout",
     "output_type": "stream",
     "text": [
      "3\n"
     ]
    }
   ],
   "source": [
    "# tests = [[dict(),'sth',3],\n",
    "#          [{'apple':3,'pear':2,'plum':-1},'plum',3],\n",
    "#         [{'apple':3,'pear':2,'plum':-1},'grape',3]]\n",
    "# answers = [3,-1, 3]\n",
    "\n",
    "def get_def(dictonary,key, defaulf):\n",
    "    return dictonary.get(key) if  dictonary.get(key) else defaulf\n",
    "\n",
    "print(get_def(dict(),'sth',3))\n",
    "\n",
    "# for test in zip(tests,answers):\n",
    "#     a = str(test[0])\n",
    "#     assert(get_def(test[0][0], test[0][1],test[0][2]) == test[1])\n",
    "#     print(\"assert(get_def({},{},{}))=={})\".format(test[0][0], test[0][1],test[0][2], test[1]))"
   ]
  },
  {
   "cell_type": "code",
   "execution_count": 62,
   "metadata": {},
   "outputs": [
    {
     "name": "stdout",
     "output_type": "stream",
     "text": [
      "b\n"
     ]
    }
   ],
   "source": [
    "def drugi(lis):\n",
    "    return(sorted(lis,key=None, reverse=True)[1])\n",
    "\n",
    "# tests = [[0,1,2,3], [2,2,2,2], ['a','b','c'], [1000,10,100,1,10000]]\n",
    "# answers = [2,2,'b',1000]\n",
    "# for test in zip(tests,answers):\n",
    "#     a = str(test[0])\n",
    "#     assert(drugi(test[0])==test[1])\n",
    "#     print(\"assert(drugi({}))=={})\".format(a, test[1]))\n",
    "\n",
    "\n",
    "print(drugi(['a','b','c']))"
   ]
  },
  {
   "cell_type": "code",
   "execution_count": 66,
   "metadata": {},
   "outputs": [
    {
     "name": "stdout",
     "output_type": "stream",
     "text": [
      "2\n"
     ]
    }
   ],
   "source": [
    "class A:\n",
    "    def __init__(self, a):\n",
    "        self.__a = a\n",
    "    def geta(self):\n",
    "        return self.__a\n",
    "      \n",
    "x = A(2)\n",
    "print(x.geta())    "
   ]
  },
  {
   "cell_type": "code",
   "execution_count": 70,
   "metadata": {},
   "outputs": [
    {
     "name": "stdout",
     "output_type": "stream",
     "text": [
      "<bound method A.a of <__main__.A object at 0x000001D8ABAFAD40>>\n",
      "10\n"
     ]
    }
   ],
   "source": [
    "class A:\n",
    "    def __init__(self, a, b):\n",
    "        self._a = a\n",
    "        self._b = b\n",
    "\n",
    "    @property\n",
    "    def a(self):\n",
    "        return self._a\n",
    "    def a(self, value):\n",
    "        self._a=value\n",
    "\n",
    "    \n",
    "x = A(1, 2)\n",
    "print(x.a)\n",
    "x.a = 10\n",
    "print(x.a)"
   ]
  },
  {
   "cell_type": "code",
   "execution_count": 74,
   "metadata": {},
   "outputs": [
    {
     "name": "stdout",
     "output_type": "stream",
     "text": [
      "True\n"
     ]
    }
   ],
   "source": [
    "from random import random\n",
    "class lru_cache:\n",
    "    def __init__(self, f):\n",
    "        self.cache = {}\n",
    "        self.count_called = 0\n",
    "        self.count_eval = 0\n",
    "        self.f = f\n",
    "    def __call__(self, *args, **kwargs):\n",
    "        key = ((*args,), (*sorted(kwargs.items(), key=lambda x: x[0]),))\n",
    "        if key not in self.cache:\n",
    "            self.count_eval += 1\n",
    "            self.cache[key] = self.f(*args, **kwargs)\n",
    "        self.count_called += 1\n",
    "        return self.cache[key]\n",
    "    \n",
    "    def cache_reset(self):\n",
    "        self.cache = {}\n",
    "    \n",
    "    def cache_status(self):\n",
    "        return f'Function {self.f.__name__} called {self.count_called} times, evaluated {self.count_eval} times'\n",
    "\n",
    "\n",
    "\n",
    "@lru_cache\n",
    "def fib(n):\n",
    "    if n < 2:\n",
    "        return n\n",
    "    return fib(n-1) + fib(n-2)\n",
    "\n",
    "# Testy\n",
    "assert fib(0) == 0\n",
    "assert fib(1) == 1\n",
    "assert fib(2) == 1\n",
    "assert fib(128) == 251728825683549488150424261"
   ]
  },
  {
   "cell_type": "code",
   "execution_count": null,
   "metadata": {},
   "outputs": [],
   "source": [
    "# def staticmethod(f):\n",
    "    "
   ]
  },
  {
   "cell_type": "markdown",
   "metadata": {},
   "source": [
    "Za pomocą map i filter lub generator expressions napisz funkcję is_triangle(iter_a, iter_b, iter_c), która przyjmuje na wejściu 3 obiekty iterowalne (np. listy) zawierające kolejne długości boków a, b, c trójkątów (jako int'y) i dla każdej trójki długości sprawdzającej czy spełniają one nierówność trójkąta (x + y >= za dl każdego boku). Na wyjściu oczekiwany jest iterator zwracający True wtedy i tylko wtedy, gdy odpowiadająca trójka długości boków spałenia nierówność (w p.p. False). Uwaga: wejścia mogą być nieskończone. Mogą też zawierać elementy nie będące int'ami, np. None lub inny typ nie będący int'em (wtedy też należy pominąć ten zestaw długości)."
   ]
  },
  {
   "cell_type": "code",
   "execution_count": null,
   "metadata": {},
   "outputs": [],
   "source": [
    "def triangle (a,b,c):\n",
    "    if a+b>c:\n",
    "        if b+c>a:\n",
    "            if c+a>b:\n",
    "                return True\n",
    "    return False\n",
    "    \n",
    "def istriangle(iter1, iter2, iter3):\n",
    "    return[triangle(i, k, l) for i,k, l in zip(iter1,iter2,iter3)]"
   ]
  }
 ],
 "metadata": {
  "kernelspec": {
   "display_name": "Python 3.10.2 64-bit",
   "language": "python",
   "name": "python3"
  },
  "language_info": {
   "codemirror_mode": {
    "name": "ipython",
    "version": 3
   },
   "file_extension": ".py",
   "mimetype": "text/x-python",
   "name": "python",
   "nbconvert_exporter": "python",
   "pygments_lexer": "ipython3",
   "version": "3.10.2"
  },
  "orig_nbformat": 4,
  "vscode": {
   "interpreter": {
    "hash": "26de051ba29f2982a8de78e945f0abaf191376122a1563185a90213a26c5da77"
   }
  }
 },
 "nbformat": 4,
 "nbformat_minor": 2
}
