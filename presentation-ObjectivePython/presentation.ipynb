{
 "cells": [
  {
   "attachments": {},
   "cell_type": "markdown",
   "metadata": {},
   "source": [
    "# Object oriented Python - Advanced"
   ]
  },
  {
   "attachments": {},
   "cell_type": "markdown",
   "metadata": {},
   "source": [
    "### Magic method"
   ]
  },
  {
   "attachments": {},
   "cell_type": "markdown",
   "metadata": {},
   "source": [
    "Magic methods in Python are the special methods that start and end with the double underscores. Magic methods are not meant to be invoked directly by you, but the invocation happens internally from the class on a certain action. For example, when you add two numbers using the + operator, internally, the __add__() method will be called."
   ]
  },
  {
   "attachments": {},
   "cell_type": "markdown",
   "metadata": {},
   "source": [
    "Built-in classes in Python define many magic methods\n",
    "\n",
    "For example, the following lists all the attributes and methods defined in the int class."
   ]
  },
  {
   "cell_type": "code",
   "execution_count": 1,
   "metadata": {},
   "outputs": [
    {
     "data": {
      "text/plain": [
       "['__abs__',\n",
       " '__add__',\n",
       " '__and__',\n",
       " '__bool__',\n",
       " '__ceil__',\n",
       " '__class__',\n",
       " '__delattr__',\n",
       " '__dir__',\n",
       " '__divmod__',\n",
       " '__doc__',\n",
       " '__eq__',\n",
       " '__float__',\n",
       " '__floor__',\n",
       " '__floordiv__',\n",
       " '__format__',\n",
       " '__ge__',\n",
       " '__getattribute__',\n",
       " '__getnewargs__',\n",
       " '__gt__',\n",
       " '__hash__',\n",
       " '__index__',\n",
       " '__init__',\n",
       " '__init_subclass__',\n",
       " '__int__',\n",
       " '__invert__',\n",
       " '__le__',\n",
       " '__lshift__',\n",
       " '__lt__',\n",
       " '__mod__',\n",
       " '__mul__',\n",
       " '__ne__',\n",
       " '__neg__',\n",
       " '__new__',\n",
       " '__or__',\n",
       " '__pos__',\n",
       " '__pow__',\n",
       " '__radd__',\n",
       " '__rand__',\n",
       " '__rdivmod__',\n",
       " '__reduce__',\n",
       " '__reduce_ex__',\n",
       " '__repr__',\n",
       " '__rfloordiv__',\n",
       " '__rlshift__',\n",
       " '__rmod__',\n",
       " '__rmul__',\n",
       " '__ror__',\n",
       " '__round__',\n",
       " '__rpow__',\n",
       " '__rrshift__',\n",
       " '__rshift__',\n",
       " '__rsub__',\n",
       " '__rtruediv__',\n",
       " '__rxor__',\n",
       " '__setattr__',\n",
       " '__sizeof__',\n",
       " '__str__',\n",
       " '__sub__',\n",
       " '__subclasshook__',\n",
       " '__truediv__',\n",
       " '__trunc__',\n",
       " '__xor__',\n",
       " 'as_integer_ratio',\n",
       " 'bit_count',\n",
       " 'bit_length',\n",
       " 'conjugate',\n",
       " 'denominator',\n",
       " 'from_bytes',\n",
       " 'imag',\n",
       " 'numerator',\n",
       " 'real',\n",
       " 'to_bytes']"
      ]
     },
     "execution_count": 1,
     "metadata": {},
     "output_type": "execute_result"
    }
   ],
   "source": [
    "dir(int)"
   ]
  },
  {
   "cell_type": "code",
   "execution_count": 2,
   "metadata": {},
   "outputs": [
    {
     "name": "stdout",
     "output_type": "stream",
     "text": [
      "15\n",
      "15\n"
     ]
    }
   ],
   "source": [
    "num = 10\n",
    "print(num+5)\n",
    "print(num.__add__(5))"
   ]
  },
  {
   "attachments": {},
   "cell_type": "markdown",
   "metadata": {},
   "source": [
    "#### __ __init__ __ vs __ __new__ __"
   ]
  },
  {
   "attachments": {},
   "cell_type": "markdown",
   "metadata": {},
   "source": [
    "When you create an instance of a class, Python first calls the __new__() method to create the object and then calls the __init__() method to initialize the object’s attributes."
   ]
  },
  {
   "attachments": {},
   "cell_type": "markdown",
   "metadata": {},
   "source": [
    "When you create an instance of a class, Python first calls the __new__() method to create the object and then calls the __init__() method to initialize the object’s attributes."
   ]
  },
  {
   "cell_type": "code",
   "execution_count": null,
   "metadata": {},
   "outputs": [],
   "source": [
    "object.__new__(class, *args, **kwargs)"
   ]
  },
  {
   "attachments": {},
   "cell_type": "markdown",
   "metadata": {},
   "source": [
    "The first argument of the __ new __ method is the class of the new object that you want to create.\n",
    "\n",
    "The *args and **kwargs parameters must match the parameters of the __ init __() of the class.\n",
    "\n",
    "The __ new __() method should return a new object of the class. But it doesn’t have to.\n",
    "\n",
    "When you define a new class, that class implicitly inherits from the object class. It means that you can override the __ new __ static method and do something before and after creating a new instance of the class.\n",
    "\n",
    "To create the object of a class, you call the super().__ new __() method.\n",
    "\n",
    "Technically, you can call the object.__ new __ () method to create an object manually. However, you need to call the __ init __ () yourself manually after. Python will not call the __ init __ () method automatically if you explicitly create a new object using the object.__ new __() method."
   ]
  },
  {
   "cell_type": "code",
   "execution_count": 3,
   "metadata": {},
   "outputs": [],
   "source": [
    "class Person:\n",
    "    def __init__(self, name):\n",
    "        self.name = name\n",
    "\n",
    "\n",
    "person = Person('John')"
   ]
  },
  {
   "cell_type": "code",
   "execution_count": 5,
   "metadata": {},
   "outputs": [],
   "source": [
    "person = object.__new__(Person, 'John')\n",
    "#then\n",
    "person.__init__('John')"
   ]
  },
  {
   "cell_type": "code",
   "execution_count": 6,
   "metadata": {},
   "outputs": [
    {
     "name": "stdout",
     "output_type": "stream",
     "text": [
      "{}\n",
      "{'name': 'John'}\n"
     ]
    }
   ],
   "source": [
    "person = object.__new__(Person, 'John')\n",
    "print(person.__dict__)\n",
    "\n",
    "person.__init__('John')\n",
    "print(person.__dict__)"
   ]
  },
  {
   "attachments": {},
   "cell_type": "markdown",
   "metadata": {},
   "source": [
    "As you can see clearly from the output, after calling the __ new __ () method, the person.__ dict __ is empty. And after calling the __ init __() method, the person. __ dict __ contains the name attribute with the value ‘John'.\n",
    "\n",
    "The following illustrates the sequence which Python calls the __ new __ and __ init __ method when you create a new object by calling the class:"
   ]
  },
  {
   "cell_type": "code",
   "execution_count": 7,
   "metadata": {},
   "outputs": [
    {
     "name": "stdout",
     "output_type": "stream",
     "text": [
      "Creating a new Person object...\n",
      "Initializing the person object...\n"
     ]
    }
   ],
   "source": [
    "class Person:\n",
    "    def __new__(cls, name):\n",
    "        print(f'Creating a new {cls.__name__} object...')\n",
    "        obj = object.__new__(cls)\n",
    "        return obj\n",
    "\n",
    "    def __init__(self, name):\n",
    "        print(f'Initializing the person object...')\n",
    "        self.name = name\n",
    "\n",
    "\n",
    "person = Person('John')"
   ]
  },
  {
   "cell_type": "code",
   "execution_count": 8,
   "metadata": {},
   "outputs": [
    {
     "name": "stdout",
     "output_type": "stream",
     "text": [
      "9\n"
     ]
    }
   ],
   "source": [
    "class SquareNumber(int):\n",
    "    def __new__(cls, value):\n",
    "        return super().__new__(cls, value ** 2)\n",
    "\n",
    "\n",
    "x = SquareNumber(3)\n",
    "print(x)  # 9"
   ]
  },
  {
   "cell_type": "code",
   "execution_count": 9,
   "metadata": {},
   "outputs": [
    {
     "ename": "TypeError",
     "evalue": "object.__init__() takes exactly one argument (the instance to initialize)",
     "output_type": "error",
     "traceback": [
      "\u001b[1;31m---------------------------------------------------------------------------\u001b[0m",
      "\u001b[1;31mTypeError\u001b[0m                                 Traceback (most recent call last)",
      "\u001b[1;32md:\\Code\\UJ\\effective_python\\effective_python\\presentation-ObjectivePython\\presentation.ipynb Komórka 18\u001b[0m in \u001b[0;36m<cell line: 6>\u001b[1;34m()\u001b[0m\n\u001b[0;32m      <a href='vscode-notebook-cell:/d%3A/Code/UJ/effective_python/effective_python/presentation-ObjectivePython/presentation.ipynb#X50sZmlsZQ%3D%3D?line=1'>2</a>\u001b[0m     \u001b[39mdef\u001b[39;00m \u001b[39m__init__\u001b[39m(\u001b[39mself\u001b[39m, value):\n\u001b[0;32m      <a href='vscode-notebook-cell:/d%3A/Code/UJ/effective_python/effective_python/presentation-ObjectivePython/presentation.ipynb#X50sZmlsZQ%3D%3D?line=2'>3</a>\u001b[0m         \u001b[39msuper\u001b[39m()\u001b[39m.\u001b[39m\u001b[39m__init__\u001b[39m(value \u001b[39m*\u001b[39m\u001b[39m*\u001b[39m \u001b[39m2\u001b[39m)\n\u001b[1;32m----> <a href='vscode-notebook-cell:/d%3A/Code/UJ/effective_python/effective_python/presentation-ObjectivePython/presentation.ipynb#X50sZmlsZQ%3D%3D?line=5'>6</a>\u001b[0m x \u001b[39m=\u001b[39m SquareNumber(\u001b[39m3\u001b[39;49m)\n",
      "\u001b[1;32md:\\Code\\UJ\\effective_python\\effective_python\\presentation-ObjectivePython\\presentation.ipynb Komórka 18\u001b[0m in \u001b[0;36mSquareNumber.__init__\u001b[1;34m(self, value)\u001b[0m\n\u001b[0;32m      <a href='vscode-notebook-cell:/d%3A/Code/UJ/effective_python/effective_python/presentation-ObjectivePython/presentation.ipynb#X50sZmlsZQ%3D%3D?line=1'>2</a>\u001b[0m \u001b[39mdef\u001b[39;00m \u001b[39m__init__\u001b[39m(\u001b[39mself\u001b[39m, value):\n\u001b[1;32m----> <a href='vscode-notebook-cell:/d%3A/Code/UJ/effective_python/effective_python/presentation-ObjectivePython/presentation.ipynb#X50sZmlsZQ%3D%3D?line=2'>3</a>\u001b[0m     \u001b[39msuper\u001b[39;49m()\u001b[39m.\u001b[39;49m\u001b[39m__init__\u001b[39;49m(value \u001b[39m*\u001b[39;49m\u001b[39m*\u001b[39;49m \u001b[39m2\u001b[39;49m)\n",
      "\u001b[1;31mTypeError\u001b[0m: object.__init__() takes exactly one argument (the instance to initialize)"
     ]
    }
   ],
   "source": [
    "class SquareNumber(int):\n",
    "    def __init__(self, value):\n",
    "        super().__init__(value ** 2)\n",
    "\n",
    "\n",
    "x = SquareNumber(3)"
   ]
  },
  {
   "attachments": {},
   "cell_type": "markdown",
   "metadata": {},
   "source": [
    "In this example, the __ new __() method of the SquareNumber class accepts an integer and returns the square number. x is an instance of the SquareNumber class and also an instance of the int built-in type:"
   ]
  },
  {
   "attachments": {},
   "cell_type": "markdown",
   "metadata": {},
   "source": [
    "For example, the following defines the Person class and uses the __new__method to inject the full_name attribute to the Person’s object:"
   ]
  },
  {
   "cell_type": "code",
   "execution_count": 20,
   "metadata": {},
   "outputs": [
    {
     "name": "stdout",
     "output_type": "stream",
     "text": [
      "John Doe\n",
      "{'first_name': 'John', 'last_name': 'Doe', 'full_name': 'John Doe'}\n"
     ]
    }
   ],
   "source": [
    "class Person:\n",
    "    def __new__(cls, first_name, last_name):\n",
    "        # create a new object\n",
    "        obj = super().__new__(cls)\n",
    "\n",
    "        # initialize attributes\n",
    "        obj.first_name = first_name\n",
    "        obj.last_name = last_name\n",
    "\n",
    "        # inject new attribute\n",
    "        obj.full_name = f'{first_name} {last_name}'\n",
    "        return obj\n",
    "\n",
    "\n",
    "person = Person('John', 'Doe')\n",
    "print(person.full_name)\n",
    "\n",
    "print(person.__dict__)"
   ]
  },
  {
   "attachments": {},
   "cell_type": "markdown",
   "metadata": {},
   "source": [
    "- The __ new __() is a static method of the object class.\n",
    "- When you create a new object by calling the class, Python calls the __ new __() method to create the object first and then calls the __ init __() method to initialize the object’s attributes.\n",
    "- Override the __ new __() method if you want to tweak the object at creation time."
   ]
  },
  {
   "attachments": {},
   "cell_type": "markdown",
   "metadata": {},
   "source": [
    "Typically, when you override the __ new __() method, you don’t need to define the __ init __ () method because everything you can do in the __ init __() method, you can do it in the __ new __() method."
   ]
  },
  {
   "attachments": {},
   "cell_type": "markdown",
   "metadata": {},
   "source": [
    "#### __ del __(self)"
   ]
  },
  {
   "attachments": {},
   "cell_type": "markdown",
   "metadata": {},
   "source": [
    "If __ new __ and __ init __ formed the constructor of the object, __ del __ is the destructor. It doesn't implement behavior for the statement del x (so that code would not translate to x.__ del __ ()). Rather, it defines behavior for when an object is garbage collected. It can be quite useful for objects that might require extra cleanup upon deletion, like sockets or file objects. Be careful, however, as there is no guarantee that __ del __ will be executed if the object is still alive when the interpreter exits, so __ del __ can't serve as a replacement for good coding practices (like always closing a connection when you're done with it. In fact, __ del __ should almost never be used because of the precarious circumstances under which it is called; use it with caution!"
   ]
  },
  {
   "cell_type": "code",
   "execution_count": 30,
   "metadata": {},
   "outputs": [
    {
     "name": "stdout",
     "output_type": "stream",
     "text": [
      "creating\n",
      "middle text\n"
     ]
    },
    {
     "data": {
      "text/plain": [
       "<bound method FileObject.doSth of <__main__.FileObject object at 0x0000022320C472E0>>"
      ]
     },
     "execution_count": 30,
     "metadata": {},
     "output_type": "execute_result"
    }
   ],
   "source": [
    "from os.path import join\n",
    "\n",
    "class FileObject:\n",
    "    '''Wrapper for file objects to make sure the file gets closed on deletion.'''\n",
    "\n",
    "    def __init__(self, filepath='', filename='sample.txt'):\n",
    "        # open a file filename in filepath in read and write mode\n",
    "        print(\"creating\")\n",
    "        self.file = open(join(filepath, filename), 'r+')\n",
    "\n",
    "    def __del__(self):\n",
    "        self.file.close()\n",
    "        print(\"cleanup\")\n",
    "        del self.file\n",
    "\n",
    "    def doSth(self):\n",
    "        print(\"test\")\n",
    "\n",
    "a = FileObject(filename=\"hamlet.txt\")\n",
    "print(\"middle text\")\n",
    "a.doSth"
   ]
  },
  {
   "attachments": {},
   "cell_type": "markdown",
   "metadata": {},
   "source": [
    "#### Making Operators Work on Custom Classes"
   ]
  },
  {
   "attachments": {},
   "cell_type": "markdown",
   "metadata": {},
   "source": [
    "##### Comparison magic methods"
   ]
  },
  {
   "attachments": {},
   "cell_type": "markdown",
   "metadata": {},
   "source": [
    "__ cmp __(self, other)\n",
    "\n",
    "is the most basic of the comparison magic methods. It actually implements behavior for all of the comparison operators (<, ==, !=, etc.), but it might not do it the way you want (for example, if whether one instance was equal to another were determined by one criterion and and whether an instance is greater than another were determined by something else). __ cmp __ should return a negative integer if self < other, zero if self == other, and positive if self > other. It's usually best to define each comparison you need rather than define them all at once, but __ cmp __ can be a good way to save repetition and improve clarity when you need all comparisons implemented with similar criteria.\n",
    " \n",
    "__ eq __(self, other)\n",
    "Defines behavior for the equality operator, ==.\n",
    "\n",
    "__ ne __(self, other)\n",
    "Defines behavior for the inequality operator, !=.\n",
    "\n",
    "__ lt __(self, other)\n",
    "Defines behavior for the less-than operator, <.\n",
    "\n",
    "__ gt __(self, other)\n",
    "Defines behavior for the greater-than operator, >.\n",
    "\n",
    "__ le __(self, other)\n",
    "Defines behavior for the less-than-or-equal-to operator, <=.\n",
    "\n",
    "__ ge __(self, other)\n",
    "Defines behavior for the greater-than-or-equal-to operator, >=."
   ]
  },
  {
   "cell_type": "code",
   "execution_count": 31,
   "metadata": {},
   "outputs": [
    {
     "name": "stdout",
     "output_type": "stream",
     "text": [
      "True\n",
      "True\n",
      "False\n"
     ]
    }
   ],
   "source": [
    "class Word(str):\n",
    "    '''Class for words, defining comparison based on word length.'''\n",
    "\n",
    "    def __new__(cls, word):\n",
    "        # Note that we have to use __new__. This is because str is an immutable\n",
    "        # type, so we have to initialize it early (at creation)\n",
    "        if ' ' in word:\n",
    "            print (\"Value contains spaces. Truncating to first space.\")\n",
    "            word = word[:word.index(' ')] # Word is now all chars before first space\n",
    "        return str.__new__(cls, word)\n",
    "\n",
    "    def __gt__(self, other):\n",
    "        return len(self) > len(other)\n",
    "    def __lt__(self, other):\n",
    "        return len(self) < len(other)\n",
    "    def __ge__(self, other):\n",
    "        return len(self) >= len(other)\n",
    "    def __le__(self, other):\n",
    "        return len(self) <= len(other)\n",
    "\n",
    "\n",
    "a = Word(\"Ala\")\n",
    "b = Word(\"kota\")\n",
    "print(a==a)\n",
    "print(a<b)\n",
    "print(a==b)"
   ]
  },
  {
   "attachments": {},
   "cell_type": "markdown",
   "metadata": {},
   "source": [
    "##### Numeric magic methods"
   ]
  },
  {
   "attachments": {},
   "cell_type": "markdown",
   "metadata": {},
   "source": [
    "Just like you can create ways for instances of your class to be compared with comparison operators, you can define behavior for numeric operators."
   ]
  },
  {
   "attachments": {},
   "cell_type": "markdown",
   "metadata": {},
   "source": [
    "##### Unary operators and functions"
   ]
  },
  {
   "attachments": {},
   "cell_type": "markdown",
   "metadata": {},
   "source": [
    "__ pos __(self)\n",
    "Implements behavior for unary positive (e.g. +some_object)\n",
    "\n",
    "__ neg __(self)\n",
    "Implements behavior for negation (e.g. -some_object)\n",
    "\n",
    "__ abs __(self)\n",
    "Implements behavior for the built in abs() function.\n",
    "\n",
    "__ invert __(self)\n",
    "Implements behavior for inversion using the ~ operator. For an explanation on what this does, see the Wikipedia article on bitwise operations.\n",
    "\n",
    "__ round __(self, n)\n",
    "Implements behavior for the built in round() function. n is the number of decimal places to round to.\n",
    "\n",
    "__ floor __(self)\n",
    "Implements behavior for math.floor(), i.e., rounding down to the nearest integer.\n",
    "\n",
    "__ ceil __(self)\n",
    "Implements behavior for math.ceil(), i.e., rounding up to the nearest integer.\n",
    "\n",
    "__ trunc __(self)\n",
    "Implements behavior for math.trunc(), i.e., truncating to an integral."
   ]
  },
  {
   "attachments": {},
   "cell_type": "markdown",
   "metadata": {},
   "source": [
    "##### Normal arithmetic operators"
   ]
  },
  {
   "attachments": {},
   "cell_type": "markdown",
   "metadata": {},
   "source": [
    "__ add __(self, other)\n",
    "Implements addition.\n",
    "\n",
    "__ sub __(self, other)\n",
    "Implements subtraction.\n",
    "\n",
    "__ mul __(self, other)\n",
    "Implements multiplication.\n",
    "\n",
    "__ floordiv __(self, other)\n",
    "Implements integer division using the // operator.\n",
    "\n",
    "__ div __(self, other)\n",
    "Implements division using the / operator.\n",
    "\n",
    "__ mod __(self, other)\n",
    "Implements modulo using the % operator.\n",
    "\n",
    "__ divmod __(self, other)\n",
    "Implements behavior for long division using the divmod() built in function.\n",
    "\n",
    "__ pow __\n",
    "Implements behavior for exponents using the ** operator.\n",
    "\n",
    "__ lshift __(self, other)\n",
    "Implements left bitwise shift using the << operator.\n",
    "\n",
    "__ rshift __(self, other)\n",
    "Implements right bitwise shift using the >> operator.\n",
    "\n",
    "__ and __(self, other)\n",
    "Implements bitwise and using the & operator.\n",
    "\n",
    "__ or __(self, other)\n",
    "Implements bitwise or using the | operator.\n",
    "\n",
    "__ xor __(self, other)\n",
    "Implements bitwise xor using the ^ operator."
   ]
  },
  {
   "attachments": {},
   "cell_type": "markdown",
   "metadata": {},
   "source": [
    "##### Augmented assignment\n",
    "Python also has a wide variety of magic methods to allow custom behavior to be defined for augmented assignment. You're probably already familiar with augmented assignment, it combines \"normal\" operators with assignment.\n",
    "\n",
    "Each of these methods should return the value that the variable on the left hand side should be assigned to (for instance, for a += b, \n",
    "\n",
    "__ iadd __ might return a + b, which would be assigned to a). Here's the list:\n",
    "\n",
    "__ iadd __(self, other)\n",
    "Implements addition with assignment.\n",
    "\n",
    "__ isub __(self, other)\n",
    "Implements subtraction with assignment.\n",
    "\n",
    "__ imul __(self, other)\n",
    "Implements multiplication with assignment.\n",
    "\n",
    "__ ifloordiv __(self, other)\n",
    "Implements integer division with assignment using the //= operator.\n",
    "\n",
    "__ idiv __(self, other)\n",
    "Implements division with assignment using the /= operator.\n",
    "\n",
    "__ imod __(self, other)\n",
    "Implements modulo with assignment using the %= operator.\n",
    "\n",
    "__ ipow __\n",
    "Implements behavior for exponents with assignment using the **= operator.\n",
    "\n",
    "__ ilshift __(self, other)\n",
    "Implements left bitwise shift with assignment using the <<= operator.\n",
    "\n",
    "__ irshift __(self, other)\n",
    "Implements right bitwise shift with assignment using the >>= operator.\n",
    "\n",
    "__ iand __(self, other)\n",
    "Implements bitwise and with assignment using the &= operator.\n",
    "\n",
    "__ ior __(self, other)\n",
    "Implements bitwise or with assignment using the |= operator.\n",
    "\n",
    "__ ixor __(self, other)\n",
    "Implements bitwise xor with assignment using the ^= operator."
   ]
  },
  {
   "attachments": {},
   "cell_type": "markdown",
   "metadata": {},
   "source": [
    "##### Type conversion magic methods"
   ]
  },
  {
   "attachments": {},
   "cell_type": "markdown",
   "metadata": {},
   "source": [
    "__ int __(self)\n",
    "Implements type conversion to int.\n",
    "\n",
    "__ long __(self)\n",
    "Implements type conversion to long.\n",
    "\n",
    "__ float __(self)\n",
    "Implements type conversion to float.\n",
    "\n",
    "__ complex __(self)\n",
    "Implements type conversion to complex.\n",
    "\n",
    "__ oct __(self)\n",
    "Implements type conversion to octal.\n",
    "\n",
    "__ hex __(self)\n",
    "Implements type conversion to hexadecimal.\n",
    "\n",
    "__ index __(self)\n",
    "Implements type conversion to an int when the object is used in a slice expression. If you define a custom numeric type that might be used in slicing, you should define __ index __.\n",
    "\n",
    "__ trunc __(self)\n",
    "Called when math.trunc(self) is called. __ trunc __ should return the value of `self truncated to an integral type (usually a long).\n",
    "\n",
    "__ coerce __(self, other)\n",
    "Method to implement mixed mode arithmetic. __ coerce __ should return None if type conversion is impossible. Otherwise, it should return a pair (2-tuple) of self and other, manipulated to have the same type."
   ]
  },
  {
   "attachments": {},
   "cell_type": "markdown",
   "metadata": {},
   "source": [
    "#### Inheritance, Encapsulation, Polymorphism"
   ]
  },
  {
   "cell_type": "code",
   "execution_count": null,
   "metadata": {},
   "outputs": [],
   "source": []
  },
  {
   "attachments": {},
   "cell_type": "markdown",
   "metadata": {},
   "source": [
    "##### Diamond problem"
   ]
  },
  {
   "cell_type": "code",
   "execution_count": null,
   "metadata": {},
   "outputs": [],
   "source": []
  },
  {
   "attachments": {},
   "cell_type": "markdown",
   "metadata": {},
   "source": [
    "#### Abstraction"
   ]
  },
  {
   "cell_type": "code",
   "execution_count": null,
   "metadata": {},
   "outputs": [],
   "source": []
  },
  {
   "attachments": {},
   "cell_type": "markdown",
   "metadata": {},
   "source": [
    "#### Method Overloading and Method Overriding"
   ]
  },
  {
   "cell_type": "code",
   "execution_count": null,
   "metadata": {},
   "outputs": [],
   "source": []
  },
  {
   "attachments": {},
   "cell_type": "markdown",
   "metadata": {},
   "source": [
    "#### Dependency injection"
   ]
  },
  {
   "cell_type": "code",
   "execution_count": null,
   "metadata": {},
   "outputs": [],
   "source": []
  },
  {
   "attachments": {},
   "cell_type": "markdown",
   "metadata": {},
   "source": [
    "https://www.pythontutorial.net/python-oop/python-__new__/\n",
    "https://rszalski.github.io/magicmethods/\n",
    "https://www.tutorialsteacher.com/python/magic-methods-in-python\n",
    "https://python-dependency-injector.ets-labs.org/introduction/di_in_python.html\n",
    "https://www.freecodecamp.org/news/object-oriented-programming-in-python/\n",
    "https://www.geeksforgeeks.org/multiple-inheritance-in-python/\n",
    "https://coderslegacy.com/python/advanced-python-classes/"
   ]
  }
 ],
 "metadata": {
  "kernelspec": {
   "display_name": "Python 3",
   "language": "python",
   "name": "python3"
  },
  "language_info": {
   "codemirror_mode": {
    "name": "ipython",
    "version": 3
   },
   "file_extension": ".py",
   "mimetype": "text/x-python",
   "name": "python",
   "nbconvert_exporter": "python",
   "pygments_lexer": "ipython3",
   "version": "3.10.2"
  },
  "orig_nbformat": 4,
  "vscode": {
   "interpreter": {
    "hash": "26de051ba29f2982a8de78e945f0abaf191376122a1563185a90213a26c5da77"
   }
  }
 },
 "nbformat": 4,
 "nbformat_minor": 2
}
