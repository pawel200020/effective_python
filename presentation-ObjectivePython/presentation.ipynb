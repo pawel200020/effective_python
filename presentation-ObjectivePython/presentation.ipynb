{
 "cells": [
  {
   "attachments": {},
   "cell_type": "markdown",
   "metadata": {},
   "source": [
    "# Object oriented Python - Advanced"
   ]
  },
  {
   "attachments": {},
   "cell_type": "markdown",
   "metadata": {},
   "source": [
    "### Magic method"
   ]
  },
  {
   "attachments": {},
   "cell_type": "markdown",
   "metadata": {},
   "source": [
    "Magic methods in Python are the special methods that start and end with the double underscores. Magic methods are not meant to be invoked directly by you, but the invocation happens internally from the class on a certain action. For example, when you add two numbers using the + operator, internally, the __ add __() method will be called."
   ]
  },
  {
   "attachments": {},
   "cell_type": "markdown",
   "metadata": {},
   "source": [
    "Built-in classes in Python define many magic methods\n",
    "\n",
    "For example, the following lists all the attributes and methods defined in the int class."
   ]
  },
  {
   "cell_type": "code",
   "execution_count": 1,
   "metadata": {},
   "outputs": [
    {
     "data": {
      "text/plain": [
       "['__abs__',\n",
       " '__add__',\n",
       " '__and__',\n",
       " '__bool__',\n",
       " '__ceil__',\n",
       " '__class__',\n",
       " '__delattr__',\n",
       " '__dir__',\n",
       " '__divmod__',\n",
       " '__doc__',\n",
       " '__eq__',\n",
       " '__float__',\n",
       " '__floor__',\n",
       " '__floordiv__',\n",
       " '__format__',\n",
       " '__ge__',\n",
       " '__getattribute__',\n",
       " '__getnewargs__',\n",
       " '__gt__',\n",
       " '__hash__',\n",
       " '__index__',\n",
       " '__init__',\n",
       " '__init_subclass__',\n",
       " '__int__',\n",
       " '__invert__',\n",
       " '__le__',\n",
       " '__lshift__',\n",
       " '__lt__',\n",
       " '__mod__',\n",
       " '__mul__',\n",
       " '__ne__',\n",
       " '__neg__',\n",
       " '__new__',\n",
       " '__or__',\n",
       " '__pos__',\n",
       " '__pow__',\n",
       " '__radd__',\n",
       " '__rand__',\n",
       " '__rdivmod__',\n",
       " '__reduce__',\n",
       " '__reduce_ex__',\n",
       " '__repr__',\n",
       " '__rfloordiv__',\n",
       " '__rlshift__',\n",
       " '__rmod__',\n",
       " '__rmul__',\n",
       " '__ror__',\n",
       " '__round__',\n",
       " '__rpow__',\n",
       " '__rrshift__',\n",
       " '__rshift__',\n",
       " '__rsub__',\n",
       " '__rtruediv__',\n",
       " '__rxor__',\n",
       " '__setattr__',\n",
       " '__sizeof__',\n",
       " '__str__',\n",
       " '__sub__',\n",
       " '__subclasshook__',\n",
       " '__truediv__',\n",
       " '__trunc__',\n",
       " '__xor__',\n",
       " 'as_integer_ratio',\n",
       " 'bit_count',\n",
       " 'bit_length',\n",
       " 'conjugate',\n",
       " 'denominator',\n",
       " 'from_bytes',\n",
       " 'imag',\n",
       " 'numerator',\n",
       " 'real',\n",
       " 'to_bytes']"
      ]
     },
     "execution_count": 1,
     "metadata": {},
     "output_type": "execute_result"
    }
   ],
   "source": [
    "dir(int)"
   ]
  },
  {
   "cell_type": "code",
   "execution_count": 25,
   "metadata": {},
   "outputs": [
    {
     "name": "stdout",
     "output_type": "stream",
     "text": [
      "15\n",
      "15\n"
     ]
    }
   ],
   "source": [
    "num = 10\n",
    "print(num+5)\n",
    "print(num.__add__(5))"
   ]
  },
  {
   "attachments": {},
   "cell_type": "markdown",
   "metadata": {},
   "source": [
    "#### __ __init__ __ vs __ __new__ __"
   ]
  },
  {
   "attachments": {},
   "cell_type": "markdown",
   "metadata": {},
   "source": [
    "When you create an instance of a class, Python first calls the __new__() method to create the object and then calls the __init__() method to initialize the object’s attributes."
   ]
  },
  {
   "cell_type": "code",
   "execution_count": null,
   "metadata": {},
   "outputs": [],
   "source": [
    "object.__new__(class, *args, **kwargs)"
   ]
  },
  {
   "attachments": {},
   "cell_type": "markdown",
   "metadata": {},
   "source": [
    "The first argument of the __ new __ method is the class of the new object that you want to create.\n",
    "\n",
    "The *args and **kwargs parameters must match the parameters of the __ init __() of the class.\n",
    "\n",
    "The __ new __() method should return a new object of the class. But it doesn’t have to.\n",
    "\n",
    "When you define a new class, that class implicitly inherits from the object class. It means that you can override the __ new __ static method and do something before and after creating a new instance of the class.\n",
    "\n",
    "To create the object of a class, you call the super().__ new __() method.\n",
    "\n",
    "Technically, you can call the object.__ new __ () method to create an object manually. However, you need to call the __ init __ () yourself manually after. Python will not call the __ init __ () method automatically if you explicitly create a new object using the object.__ new __() method."
   ]
  },
  {
   "cell_type": "code",
   "execution_count": 26,
   "metadata": {},
   "outputs": [],
   "source": [
    "class Person:\n",
    "    def __init__(self, name):\n",
    "        self.name = name\n",
    "\n",
    "\n",
    "person = Person('John')"
   ]
  },
  {
   "cell_type": "code",
   "execution_count": 29,
   "metadata": {},
   "outputs": [],
   "source": [
    "person = object.__new__(Person, 'John')\n",
    "#then\n",
    "person.__init__('John')"
   ]
  },
  {
   "cell_type": "code",
   "execution_count": 30,
   "metadata": {},
   "outputs": [
    {
     "name": "stdout",
     "output_type": "stream",
     "text": [
      "{}\n",
      "{'name': 'John'}\n"
     ]
    }
   ],
   "source": [
    "person = object.__new__(Person, 'John')\n",
    "print(person.__dict__)\n",
    "\n",
    "person.__init__('John')\n",
    "print(person.__dict__)"
   ]
  },
  {
   "attachments": {},
   "cell_type": "markdown",
   "metadata": {},
   "source": [
    "As you can see clearly from the output, after calling the __ new __ () method, the person.__ dict __ is empty. And after calling the __ init __() method, the person. __ dict __ contains the name attribute with the value ‘John'.\n",
    "\n",
    "The following illustrates the sequence which Python calls the __ new __ and __ init __ method when you create a new object by calling the class:"
   ]
  },
  {
   "cell_type": "code",
   "execution_count": 31,
   "metadata": {},
   "outputs": [
    {
     "name": "stdout",
     "output_type": "stream",
     "text": [
      "Creating a new Person object...\n",
      "Initializing the person object...\n"
     ]
    }
   ],
   "source": [
    "class Person:\n",
    "    def __new__(cls, name):\n",
    "        print(f'Creating a new {cls.__name__} object...')\n",
    "        obj = object.__new__(cls)\n",
    "        return obj\n",
    "\n",
    "    def __init__(self, name):\n",
    "        print(f'Initializing the person object...')\n",
    "        self.name = name\n",
    "\n",
    "\n",
    "person = Person('John')"
   ]
  },
  {
   "cell_type": "code",
   "execution_count": 32,
   "metadata": {},
   "outputs": [
    {
     "name": "stdout",
     "output_type": "stream",
     "text": [
      "9\n"
     ]
    }
   ],
   "source": [
    "class SquareNumber(int):\n",
    "    def __new__(cls, value):\n",
    "        return super().__new__(cls, value ** 2)\n",
    "\n",
    "\n",
    "x = SquareNumber(3)\n",
    "print(x)  # 9"
   ]
  },
  {
   "cell_type": "code",
   "execution_count": 9,
   "metadata": {},
   "outputs": [
    {
     "ename": "TypeError",
     "evalue": "object.__init__() takes exactly one argument (the instance to initialize)",
     "output_type": "error",
     "traceback": [
      "\u001b[1;31m---------------------------------------------------------------------------\u001b[0m",
      "\u001b[1;31mTypeError\u001b[0m                                 Traceback (most recent call last)",
      "\u001b[1;32md:\\Code\\UJ\\effective_python\\effective_python\\presentation-ObjectivePython\\presentation.ipynb Komórka 18\u001b[0m in \u001b[0;36m<cell line: 6>\u001b[1;34m()\u001b[0m\n\u001b[0;32m      <a href='vscode-notebook-cell:/d%3A/Code/UJ/effective_python/effective_python/presentation-ObjectivePython/presentation.ipynb#X50sZmlsZQ%3D%3D?line=1'>2</a>\u001b[0m     \u001b[39mdef\u001b[39;00m \u001b[39m__init__\u001b[39m(\u001b[39mself\u001b[39m, value):\n\u001b[0;32m      <a href='vscode-notebook-cell:/d%3A/Code/UJ/effective_python/effective_python/presentation-ObjectivePython/presentation.ipynb#X50sZmlsZQ%3D%3D?line=2'>3</a>\u001b[0m         \u001b[39msuper\u001b[39m()\u001b[39m.\u001b[39m\u001b[39m__init__\u001b[39m(value \u001b[39m*\u001b[39m\u001b[39m*\u001b[39m \u001b[39m2\u001b[39m)\n\u001b[1;32m----> <a href='vscode-notebook-cell:/d%3A/Code/UJ/effective_python/effective_python/presentation-ObjectivePython/presentation.ipynb#X50sZmlsZQ%3D%3D?line=5'>6</a>\u001b[0m x \u001b[39m=\u001b[39m SquareNumber(\u001b[39m3\u001b[39;49m)\n",
      "\u001b[1;32md:\\Code\\UJ\\effective_python\\effective_python\\presentation-ObjectivePython\\presentation.ipynb Komórka 18\u001b[0m in \u001b[0;36mSquareNumber.__init__\u001b[1;34m(self, value)\u001b[0m\n\u001b[0;32m      <a href='vscode-notebook-cell:/d%3A/Code/UJ/effective_python/effective_python/presentation-ObjectivePython/presentation.ipynb#X50sZmlsZQ%3D%3D?line=1'>2</a>\u001b[0m \u001b[39mdef\u001b[39;00m \u001b[39m__init__\u001b[39m(\u001b[39mself\u001b[39m, value):\n\u001b[1;32m----> <a href='vscode-notebook-cell:/d%3A/Code/UJ/effective_python/effective_python/presentation-ObjectivePython/presentation.ipynb#X50sZmlsZQ%3D%3D?line=2'>3</a>\u001b[0m     \u001b[39msuper\u001b[39;49m()\u001b[39m.\u001b[39;49m\u001b[39m__init__\u001b[39;49m(value \u001b[39m*\u001b[39;49m\u001b[39m*\u001b[39;49m \u001b[39m2\u001b[39;49m)\n",
      "\u001b[1;31mTypeError\u001b[0m: object.__init__() takes exactly one argument (the instance to initialize)"
     ]
    }
   ],
   "source": [
    "class SquareNumber(int):\n",
    "    def __init__(self, value): ##init inta one non args\n",
    "        super().__init__(value ** 2)\n",
    "\n",
    "\n",
    "x = SquareNumber(3)"
   ]
  },
  {
   "attachments": {},
   "cell_type": "markdown",
   "metadata": {},
   "source": [
    "In this example, the __ new __() method of the SquareNumber class accepts an integer and returns the square number. x is an instance of the SquareNumber class and also an instance of the int built-in type:"
   ]
  },
  {
   "attachments": {},
   "cell_type": "markdown",
   "metadata": {},
   "source": [
    "For example, the following defines the Person class and uses the __new__method to inject the full_name attribute to the Person’s object:"
   ]
  },
  {
   "cell_type": "code",
   "execution_count": 33,
   "metadata": {},
   "outputs": [
    {
     "name": "stdout",
     "output_type": "stream",
     "text": [
      "John Doe\n",
      "{'first_name': 'John', 'last_name': 'Doe', 'full_name': 'John Doe'}\n"
     ]
    }
   ],
   "source": [
    "class Person:\n",
    "    def __new__(cls, first_name, last_name):\n",
    "        # create a new object\n",
    "        obj = super().__new__(cls)\n",
    "\n",
    "        # initialize attributes\n",
    "        obj.first_name = first_name\n",
    "        obj.last_name = last_name\n",
    "\n",
    "        # inject new attribute\n",
    "        obj.full_name = f'{first_name} {last_name}'\n",
    "        return obj\n",
    "\n",
    "\n",
    "person = Person('John', 'Doe')\n",
    "print(person.full_name)\n",
    "\n",
    "print(person.__dict__)"
   ]
  },
  {
   "attachments": {},
   "cell_type": "markdown",
   "metadata": {},
   "source": [
    "- The __ new __() is a static method of the object class.\n",
    "- When you create a new object by calling the class, Python calls the __ new __() method to create the object first and then calls the __ init __() method to initialize the object’s attributes.\n",
    "- Override the __ new __() method if you want to tweak the object at creation time."
   ]
  },
  {
   "attachments": {},
   "cell_type": "markdown",
   "metadata": {},
   "source": [
    "Typically, when you override the __ new __() method, you don’t need to define the __ init __ () method because everything you can do in the __ init __() method, you can do it in the __ new __() method."
   ]
  },
  {
   "attachments": {},
   "cell_type": "markdown",
   "metadata": {},
   "source": [
    "#### __ del __(self)"
   ]
  },
  {
   "attachments": {},
   "cell_type": "markdown",
   "metadata": {},
   "source": [
    "If __ new __ and __ init __ formed the constructor of the object, __ del __ is the destructor. It doesn't implement behavior for the statement del x (so that code would not translate to x.__ del __ ()). Rather, it defines behavior for when an object is garbage collected. It can be quite useful for objects that might require extra cleanup upon deletion, like sockets or file objects. Be careful, however, as there is no guarantee that __ del __ will be executed if the object is still alive when the interpreter exits, so __ del __ can't serve as a replacement for good coding practices (like always closing a connection when you're done with it. In fact, __ del __ should almost never be used because of the precarious circumstances under which it is called; use it with caution!"
   ]
  },
  {
   "cell_type": "code",
   "execution_count": 34,
   "metadata": {},
   "outputs": [
    {
     "name": "stdout",
     "output_type": "stream",
     "text": [
      "creating\n",
      "middle text\n"
     ]
    },
    {
     "data": {
      "text/plain": [
       "<bound method FileObject.doSth of <__main__.FileObject object at 0x0000016DCE2661A0>>"
      ]
     },
     "execution_count": 34,
     "metadata": {},
     "output_type": "execute_result"
    }
   ],
   "source": [
    "from os.path import join\n",
    "\n",
    "class FileObject:\n",
    "    '''Wrapper for file objects to make sure the file gets closed on deletion.'''\n",
    "\n",
    "    def __init__(self, filepath='', filename='sample.txt'):\n",
    "        # open a file filename in filepath in read and write mode\n",
    "        print(\"creating\")\n",
    "        self.file = open(join(filepath, filename), 'r+')\n",
    "\n",
    "    def __del__(self):\n",
    "        self.file.close()\n",
    "        print(\"cleanup\")\n",
    "        del self.file\n",
    "\n",
    "    def doSth(self):\n",
    "        print(\"test\")\n",
    "\n",
    "a = FileObject(filename=\"hamlet.txt\")\n",
    "print(\"middle text\")\n",
    "a.doSth"
   ]
  },
  {
   "attachments": {},
   "cell_type": "markdown",
   "metadata": {},
   "source": [
    "#### Making Operators Work on Custom Classes"
   ]
  },
  {
   "attachments": {},
   "cell_type": "markdown",
   "metadata": {},
   "source": [
    "##### Comparison magic methods"
   ]
  },
  {
   "attachments": {},
   "cell_type": "markdown",
   "metadata": {},
   "source": [
    "__ cmp __(self, other)\n",
    "\n",
    "is the most basic of the comparison magic methods. It actually implements behavior for all of the comparison operators (<, ==, !=, etc.), but it might not do it the way you want (for example, if whether one instance was equal to another were determined by one criterion and and whether an instance is greater than another were determined by something else). __ cmp __ should return a negative integer if self < other, zero if self == other, and positive if self > other. It's usually best to define each comparison you need rather than define them all at once, but __ cmp __ can be a good way to save repetition and improve clarity when you need all comparisons implemented with similar criteria.\n",
    " \n",
    "__ eq __(self, other)\n",
    "Defines behavior for the equality operator, ==.\n",
    "\n",
    "__ ne __(self, other)\n",
    "Defines behavior for the inequality operator, !=.\n",
    "\n",
    "__ lt __(self, other)\n",
    "Defines behavior for the less-than operator, <.\n",
    "\n",
    "__ gt __(self, other)\n",
    "Defines behavior for the greater-than operator, >.\n",
    "\n",
    "__ le __(self, other)\n",
    "Defines behavior for the less-than-or-equal-to operator, <=.\n",
    "\n",
    "__ ge __(self, other)\n",
    "Defines behavior for the greater-than-or-equal-to operator, >=."
   ]
  },
  {
   "cell_type": "code",
   "execution_count": 35,
   "metadata": {},
   "outputs": [
    {
     "name": "stdout",
     "output_type": "stream",
     "text": [
      "True\n",
      "True\n",
      "False\n"
     ]
    }
   ],
   "source": [
    "class Word(str):\n",
    "    '''Class for words, defining comparison based on word length.'''\n",
    "\n",
    "    def __new__(cls, word):\n",
    "        # Note that we have to use __new__. This is because str is an immutable\n",
    "        # type, so we have to initialize it early (at creation)\n",
    "        if ' ' in word:\n",
    "            print (\"Value contains spaces. Truncating to first space.\")\n",
    "            word = word[:word.index(' ')] # Word is now all chars before first space\n",
    "        return str.__new__(cls, word)\n",
    "\n",
    "    def __gt__(self, other):\n",
    "        return len(self) > len(other)\n",
    "    def __lt__(self, other):\n",
    "        return len(self) < len(other)\n",
    "    def __ge__(self, other):\n",
    "        return len(self) >= len(other)\n",
    "    def __le__(self, other):\n",
    "        return len(self) <= len(other)\n",
    "\n",
    "\n",
    "a = Word(\"Ala\")\n",
    "b = Word(\"kota\")\n",
    "print(a==a)\n",
    "print(a<b)\n",
    "print(a==b)"
   ]
  },
  {
   "attachments": {},
   "cell_type": "markdown",
   "metadata": {},
   "source": [
    "##### Numeric magic methods"
   ]
  },
  {
   "attachments": {},
   "cell_type": "markdown",
   "metadata": {},
   "source": [
    "Just like you can create ways for instances of your class to be compared with comparison operators, you can define behavior for numeric operators."
   ]
  },
  {
   "attachments": {},
   "cell_type": "markdown",
   "metadata": {},
   "source": [
    "##### Unary operators and functions"
   ]
  },
  {
   "attachments": {},
   "cell_type": "markdown",
   "metadata": {},
   "source": [
    "__ pos __(self)\n",
    "Implements behavior for unary positive (e.g. +some_object)\n",
    "\n",
    "__ neg __(self)\n",
    "Implements behavior for negation (e.g. -some_object)\n",
    "\n",
    "__ abs __(self)\n",
    "Implements behavior for the built in abs() function.\n",
    "\n",
    "__ invert __(self)\n",
    "Implements behavior for inversion using the ~ operator. For an explanation on what this does, see the Wikipedia article on bitwise operations.\n",
    "\n",
    "__ round __(self, n)\n",
    "Implements behavior for the built in round() function. n is the number of decimal places to round to.\n",
    "\n",
    "__ floor __(self)\n",
    "Implements behavior for math.floor(), i.e., rounding down to the nearest integer.\n",
    "\n",
    "__ ceil __(self)\n",
    "Implements behavior for math.ceil(), i.e., rounding up to the nearest integer.\n",
    "\n",
    "__ trunc __(self)\n",
    "Implements behavior for math.trunc(), i.e., truncating to an integral."
   ]
  },
  {
   "attachments": {},
   "cell_type": "markdown",
   "metadata": {},
   "source": [
    "##### Normal arithmetic operators"
   ]
  },
  {
   "attachments": {},
   "cell_type": "markdown",
   "metadata": {},
   "source": [
    "__ add __(self, other)\n",
    "Implements addition.\n",
    "\n",
    "__ sub __(self, other)\n",
    "Implements subtraction.\n",
    "\n",
    "__ mul __(self, other)\n",
    "Implements multiplication.\n",
    "\n",
    "__ floordiv __(self, other)\n",
    "Implements integer division using the // operator.\n",
    "\n",
    "__ div __(self, other)\n",
    "Implements division using the / operator.\n",
    "\n",
    "__ mod __(self, other)\n",
    "Implements modulo using the % operator.\n",
    "\n",
    "__ divmod __(self, other)\n",
    "Implements behavior for long division using the divmod() built in function.\n",
    "\n",
    "__ pow __\n",
    "Implements behavior for exponents using the ** operator.\n",
    "\n",
    "__ lshift __(self, other)\n",
    "Implements left bitwise shift using the << operator.\n",
    "\n",
    "__ rshift __(self, other)\n",
    "Implements right bitwise shift using the >> operator.\n",
    "\n",
    "__ and __(self, other)\n",
    "Implements bitwise and using the & operator.\n",
    "\n",
    "__ or __(self, other)\n",
    "Implements bitwise or using the | operator.\n",
    "\n",
    "__ xor __(self, other)\n",
    "Implements bitwise xor using the ^ operator."
   ]
  },
  {
   "attachments": {},
   "cell_type": "markdown",
   "metadata": {},
   "source": [
    "##### Augmented assignment\n",
    "Python also has a wide variety of magic methods to allow custom behavior to be defined for augmented assignment. You're probably already familiar with augmented assignment, it combines \"normal\" operators with assignment.\n",
    "\n",
    "Each of these methods should return the value that the variable on the left hand side should be assigned to (for instance, for a += b, \n",
    "\n",
    "__ iadd __ might return a + b, which would be assigned to a). Here's the list:\n",
    "\n",
    "__ iadd __(self, other)\n",
    "Implements addition with assignment.\n",
    "\n",
    "__ isub __(self, other)\n",
    "Implements subtraction with assignment.\n",
    "\n",
    "__ imul __(self, other)\n",
    "Implements multiplication with assignment.\n",
    "\n",
    "__ ifloordiv __(self, other)\n",
    "Implements integer division with assignment using the //= operator.\n",
    "\n",
    "__ idiv __(self, other)\n",
    "Implements division with assignment using the /= operator.\n",
    "\n",
    "__ imod __(self, other)\n",
    "Implements modulo with assignment using the %= operator.\n",
    "\n",
    "__ ipow __\n",
    "Implements behavior for exponents with assignment using the **= operator.\n",
    "\n",
    "__ ilshift __(self, other)\n",
    "Implements left bitwise shift with assignment using the <<= operator.\n",
    "\n",
    "__ irshift __(self, other)\n",
    "Implements right bitwise shift with assignment using the >>= operator.\n",
    "\n",
    "__ iand __(self, other)\n",
    "Implements bitwise and with assignment using the &= operator.\n",
    "\n",
    "__ ior __(self, other)\n",
    "Implements bitwise or with assignment using the |= operator.\n",
    "\n",
    "__ ixor __(self, other)\n",
    "Implements bitwise xor with assignment using the ^= operator."
   ]
  },
  {
   "attachments": {},
   "cell_type": "markdown",
   "metadata": {},
   "source": [
    "##### Type conversion magic methods"
   ]
  },
  {
   "attachments": {},
   "cell_type": "markdown",
   "metadata": {},
   "source": [
    "__ int __(self)\n",
    "Implements type conversion to int.\n",
    "\n",
    "__ long __(self)\n",
    "Implements type conversion to long.\n",
    "\n",
    "__ float __(self)\n",
    "Implements type conversion to float.\n",
    "\n",
    "__ complex __(self)\n",
    "Implements type conversion to complex.\n",
    "\n",
    "__ oct __(self)\n",
    "Implements type conversion to octal.\n",
    "\n",
    "__ hex __(self)\n",
    "Implements type conversion to hexadecimal.\n",
    "\n",
    "__ index __(self)\n",
    "Implements type conversion to an int when the object is used in a slice expression. If you define a custom numeric type that might be used in slicing, you should define __ index __.\n",
    "\n",
    "__ trunc __(self)\n",
    "Called when math.trunc(self) is called. __ trunc __ should return the value of `self truncated to an integral type (usually a long).\n",
    "\n",
    "__ coerce __(self, other)\n",
    "Method to implement mixed mode arithmetic. __ coerce __ should return None if type conversion is impossible. Otherwise, it should return a pair (2-tuple) of self and other, manipulated to have the same type."
   ]
  },
  {
   "attachments": {},
   "cell_type": "markdown",
   "metadata": {},
   "source": [
    "#### Controlling Attribute Access"
   ]
  },
  {
   "attachments": {},
   "cell_type": "markdown",
   "metadata": {},
   "source": [
    "Many people coming to Python from other languages complain that it lacks true encapsulation for classes; that is, there's no way to define private attributes with public getter and setters. This couldn't be farther than the truth: it just happens that Python accomplishes a great deal of encapsulation through \"magic\", instead of explicit modifiers for methods or fields."
   ]
  },
  {
   "attachments": {},
   "cell_type": "markdown",
   "metadata": {},
   "source": [
    "__ getattr __(self, name)\n",
    "You can define behavior for when a user attempts to access an attribute that doesn't exist (either at all or yet). This can be useful for catching and redirecting common misspellings, giving warnings about using deprecated attributes (you can still choose to compute and return that attribute, if you wish), or deftly handing an AttributeError. It only gets called when a nonexistent attribute is accessed, however, so it isn't a true encapsulation solution.\n",
    "\n",
    "__ setattr __(self, name, value)\n",
    "\n",
    "Unlike __ getattr __ , __ setattr __ is an encapsulation solution. It allows you to define behavior for assignment to an attribute regardless of whether or not that attribute exists, meaning you can define custom rules for any changes in the values of attributes. However, you have to be careful with how you use __ setattr __, as the example at the end of the list will show.\n",
    "\n",
    "__ delattr __(self, name)\n",
    "\n",
    "This is the exact same as __ setattr __ , but for deleting attributes instead of setting them. The same precautions need to be taken as with __ setattr __ as well in order to prevent infinite recursion (calling del self.name in the implementation of __ delattr __ would cause infinite recursion).\n",
    "\n",
    "__ getattribute __(self, name)\n",
    "\n",
    "After all this, __ getattribute __ fits in pretty well with its companions __ setattr __ and __ delattr __ . However, I don't recommend you use it. __ getattribute __ can only be used with new-style classes (all classes are new-style in the newest versions of Python, and in older versions you can make a class new-style by subclassing object. It allows you to define rules for whenever an attribute's value is accessed. It suffers from some similar infinite recursion problems as its partners-in-crime (this time you call the base class's __ getattribute __ method to prevent this). It also mainly obviates the need for __ getattr __ , which, when __ getattribute __ is implemented, only gets called if it is called explicitly or an AttributeError is raised. This method can be used (after all, it's your choice), but I don't recommend it because it has a small use case (it's far more rare that we need special behavior to retrieve a value than to assign to it) and because it can be really difficult to implement bug-free."
   ]
  },
  {
   "cell_type": "code",
   "execution_count": 36,
   "metadata": {},
   "outputs": [
    {
     "name": "stdout",
     "output_type": "stream",
     "text": [
      "11\n",
      "this is not a proper property for this class\n",
      "invalid attribute\n",
      "None\n"
     ]
    }
   ],
   "source": [
    "class example:\n",
    "    def __setattr__(self, name, value):\n",
    "        if(name =='var1' or name =='var2' or name=='var3'):\n",
    "            self.__dict__[name]= value\n",
    "        else:\n",
    "            print(\"this is not a proper property for this class\")\n",
    "            return 0\n",
    "        \n",
    "    def __getattr__(self, name: str):\n",
    "        if(name =='var1' or name =='var2' or name=='var3'):\n",
    "            return self.name\n",
    "        else:\n",
    "            print(\"invalid attribute\")\n",
    "\n",
    "a = example()\n",
    "a.var1 =11\n",
    "print(a.var1)\n",
    "\n",
    "a.thisNotWork =34\n",
    "print(a.thisNotWork)"
   ]
  },
  {
   "attachments": {},
   "cell_type": "markdown",
   "metadata": {},
   "source": [
    "#### Making Custom Sequences"
   ]
  },
  {
   "attachments": {},
   "cell_type": "markdown",
   "metadata": {},
   "source": [
    "There's a number of ways to get your Python classes to act like built in sequences (dict, tuple, list, str, etc.)."
   ]
  },
  {
   "attachments": {},
   "cell_type": "markdown",
   "metadata": {},
   "source": [
    "Implementing custom container types in Python involves using some of these protocols. First, there's the protocol for defining immutable containers: to make an immutable container, you need only define __ len __ and __ getitem __ (more on these later). The mutable container protocol requires everything that immutable containers require plus __ setitem __ and __ delitem __ . Lastly, if you want your object to be iterable, you'll have to define __ iter __ , which returns an iterator. That iterator must conform to an iterator protocol, which requires iterators to have methods called __ iter __ (returning itself) and next."
   ]
  },
  {
   "attachments": {},
   "cell_type": "markdown",
   "metadata": {},
   "source": [
    "_len__(self)\n",
    "Returns the length of the container. Part of the protocol for both immutable and mutable containers.\n",
    "\n",
    "__ getitem __(self, key)\n",
    "\n",
    "Defines behavior for when an item is accessed, using the notation self[key]. This is also part of both the mutable and immutable container protocols. It should also raise appropriate exceptions: TypeError if the type of the key is wrong and KeyError if there is no corresponding value for the key.\n",
    "\n",
    "__ setitem __(self, key, value)\n",
    "\n",
    "Defines behavior for when an item is assigned to, using the notation self[nkey] = value. This is part of the mutable container protocol. Again, you should raise KeyError and TypeError where appropriate.\n",
    "\n",
    "__ delitem __(self, key)\n",
    "\n",
    "Defines behavior for when an item is deleted (e.g. del self[key]). This is only part of the mutable container protocol. You must raise the appropriate exceptions when an invalid key is used.\n",
    "\n",
    "__ iter __(self)\n",
    "\n",
    "Should return an iterator for the container. Iterators are returned in a number of contexts, most notably by the iter() built in function and when a container is looped over using the form for x in container:. Iterators are their own objects, and they also must define an __ iter __ method that returns self.\n",
    "\n",
    "__ reversed __(self)\n",
    "\n",
    "Called to implement behavior for the reversed() built in function. Should return a reversed version of the sequence. Implement this only if the sequence class is ordered, like list or tuple.\n",
    "__ contains __(self, item)\n",
    "__ contains __ defines behavior for membership tests using in and not in. Why isn't this part of a sequence protocol, you ask? Because when __ contains __ isn't defined, Python just iterates over the sequence and returns True if it comes across the item it's looking for.\n",
    "\n",
    "__ missing __(self, key)\n",
    "\n",
    "__ missing __ is used in subclasses of dict. It defines behavior for whenever a key is accessed that does not exist in a dictionary (so, for instance, if I had a dictionary d and said d[\"george\"] when \"george\" is not a key in the dict, d.__missing__(\"george\") would be called)."
   ]
  },
  {
   "cell_type": "code",
   "execution_count": 8,
   "metadata": {},
   "outputs": [
    {
     "name": "stdout",
     "output_type": "stream",
     "text": [
      "ma\n",
      "{'ala': 1, 'ma': 1, 'kota': 2}\n",
      "True\n",
      "True\n",
      "('kota', 2)\n",
      "('ala', 1)\n",
      "('ma', 1)\n",
      "{'ala': 1, 'ma': 2, 'kota': 2}\n",
      "2\n",
      "{'ala': 11, 'ma': 2, 'kota': 2}\n"
     ]
    }
   ],
   "source": [
    "from collections import Counter\n",
    "\n",
    "class BagOfWords(object):\n",
    "\n",
    "    def __init__(self, data):\n",
    "        self.dict = {}\n",
    "        if isinstance(data,str):\n",
    "            self.__initDictFromString__(data)\n",
    "        elif isinstance(data,dict):\n",
    "            self.dict = data\n",
    "        else:\n",
    "            self.__initDictFromFile__(data)\n",
    "\n",
    "    def __initDictFromString__(self,data):\n",
    "        for i in data.split(' '):\n",
    "            print(i)\n",
    "            if i in self.dict:\n",
    "                self.dict[i]+=1\n",
    "            else:\n",
    "                self.dict[i]=1\n",
    "    \n",
    "    def __initDictFromFile__(self,data):\n",
    "        for i in data.read().splitlines() :\n",
    "            for j in i.split(' '):\n",
    "                if j in self.dict:\n",
    "                    self.dict[j]+=1\n",
    "                else:\n",
    "                    self.dict[j]=1 \n",
    "\n",
    "    def __repr__(self):\n",
    "        return str(self.dict)\n",
    "\n",
    "    def __contains__(self, item):\n",
    "        if item in self.dict:\n",
    "            return True\n",
    "        else:\n",
    "            return False\n",
    "\n",
    "    def __iter__(self):\n",
    "        return iter(sorted(self.dict.items(), key=lambda x:x[1],reverse=True))\n",
    "        pass\n",
    "    \n",
    "    def __add__(self, items):\n",
    "        dict = self.dict\n",
    "        for item in items.dict:\n",
    "            if item in dict:\n",
    "                dict[item]+=1\n",
    "            else:\n",
    "                dict[item]=1\n",
    "        return BagOfWords(dict)\n",
    "\n",
    "    def __getitem__(self, item):\n",
    "        return self.dict[item]\n",
    "\n",
    "    def __setitem__(self, key, value):\n",
    "        self.dict[key] = value\n",
    "\n",
    "bag = BagOfWords(open(\"test.txt\"))\n",
    "bag2 = BagOfWords(\"ma\")\n",
    "print(bag.__repr__())\n",
    "word = \"ma\"\n",
    "word2 = \"nie\"\n",
    "print(word in bag)\n",
    "print(not word2 in bag)\n",
    "for i in bag:\n",
    "    print(i)\n",
    "bag+=bag2\n",
    "print(bag.__repr__())\n",
    "print(bag[\"ma\"])\n",
    "bag[\"ala\"]=11\n",
    "print(bag)"
   ]
  },
  {
   "attachments": {},
   "cell_type": "markdown",
   "metadata": {},
   "source": [
    "#### Inheritance, Encapsulation, Polymorphism"
   ]
  },
  {
   "attachments": {},
   "cell_type": "markdown",
   "metadata": {},
   "source": [
    "#### Inheritance"
   ]
  },
  {
   "cell_type": "code",
   "execution_count": 11,
   "metadata": {},
   "outputs": [],
   "source": [
    "class Book:\n",
    "    def __init__(self, title, quantity, author, price):\n",
    "        self.title = title\n",
    "        self.quantity = quantity\n",
    "        self.author = author\n",
    "        self.__price = price\n",
    "        self.__discount = None\n",
    "\n",
    "    def set_discount(self, discount):\n",
    "        self.__discount = discount\n",
    "\n",
    "    def get_price(self):\n",
    "        if self.__discount:\n",
    "            return self.__price * (1-self.__discount)\n",
    "        return self.__price\n",
    "\n",
    "    def __repr__(self):\n",
    "        return f\"Book: {self.title}, Quantity: {self.quantity}, Author: {self.author}, Price: {self.get_price()}\"\n",
    "\n",
    "\n",
    "class Novel(Book):\n",
    "    def __init__(self, title, quantity, author, price, pages):\n",
    "        super().__init__(title, quantity, author, price)\n",
    "        self.pages = pages\n",
    "\n",
    "\n",
    "class Academic(Book):\n",
    "    def __init__(self, title, quantity, author, price, branch):\n",
    "        super().__init__(title, quantity, author, price)\n",
    "        self.branch = branch"
   ]
  },
  {
   "cell_type": "code",
   "execution_count": 12,
   "metadata": {},
   "outputs": [
    {
     "name": "stdout",
     "output_type": "stream",
     "text": [
      "Book: Two States, Quantity: 20, Author: Chetan Bhagat, Price: 160.0\n",
      "Book: Python Foundations, Quantity: 12, Author: PSF, Price: 655\n"
     ]
    }
   ],
   "source": [
    "novel1 = Novel('Two States', 20, 'Chetan Bhagat', 200, 187)\n",
    "novel1.set_discount(0.20)\n",
    "\n",
    "academic1 = Academic('Python Foundations', 12, 'PSF', 655, 'IT')\n",
    "\n",
    "print(novel1)\n",
    "print(academic1)"
   ]
  },
  {
   "attachments": {},
   "cell_type": "markdown",
   "metadata": {},
   "source": [
    "#### Polymorphism"
   ]
  },
  {
   "cell_type": "code",
   "execution_count": 13,
   "metadata": {},
   "outputs": [],
   "source": [
    "class Academic(Book):\n",
    "    def __init__(self, title, quantity, author, price, branch):\n",
    "        super().__init__(title, quantity, author, price)\n",
    "        self.branch = branch\n",
    "\n",
    "    def __repr__(self):\n",
    "        return f\"Book: {self.title}, Branch: {self.branch}, Quantity: {self.quantity}, Author: {self.author}, Price: {self.get_price()}\""
   ]
  },
  {
   "cell_type": "code",
   "execution_count": 14,
   "metadata": {},
   "outputs": [
    {
     "name": "stdout",
     "output_type": "stream",
     "text": [
      "Book: Two States, Quantity: 20, Author: Chetan Bhagat, Price: 160.0\n",
      "Book: Python Foundations, Branch: IT, Quantity: 12, Author: PSF, Price: 655\n"
     ]
    }
   ],
   "source": [
    "novel1 = Novel('Two States', 20, 'Chetan Bhagat', 200, 187)\n",
    "novel1.set_discount(0.20)\n",
    "\n",
    "academic1 = Academic('Python Foundations', 12, 'PSF', 655, 'IT')\n",
    "\n",
    "print(novel1)\n",
    "print(academic1)"
   ]
  },
  {
   "attachments": {},
   "cell_type": "markdown",
   "metadata": {},
   "source": [
    "#### Encapsulation"
   ]
  },
  {
   "cell_type": "code",
   "execution_count": 9,
   "metadata": {},
   "outputs": [
    {
     "name": "stdout",
     "output_type": "stream",
     "text": [
      "Book 1\n",
      "12\n",
      "Author 1\n",
      "120\n"
     ]
    },
    {
     "ename": "AttributeError",
     "evalue": "'Book' object has no attribute '__discount'",
     "output_type": "error",
     "traceback": [
      "\u001b[1;31m---------------------------------------------------------------------------\u001b[0m",
      "\u001b[1;31mAttributeError\u001b[0m                            Traceback (most recent call last)",
      "\u001b[1;32md:\\Code\\UJ\\effective_python\\effective_python\\presentation-ObjectivePython\\presentation.ipynb Komórka 51\u001b[0m in \u001b[0;36m<cell line: 19>\u001b[1;34m()\u001b[0m\n\u001b[0;32m     <a href='vscode-notebook-cell:/d%3A/Code/UJ/effective_python/effective_python/presentation-ObjectivePython/presentation.ipynb#Y112sZmlsZQ%3D%3D?line=16'>17</a>\u001b[0m \u001b[39mprint\u001b[39m(book1\u001b[39m.\u001b[39mauthor)\n\u001b[0;32m     <a href='vscode-notebook-cell:/d%3A/Code/UJ/effective_python/effective_python/presentation-ObjectivePython/presentation.ipynb#Y112sZmlsZQ%3D%3D?line=17'>18</a>\u001b[0m \u001b[39mprint\u001b[39m(book1\u001b[39m.\u001b[39mprice)\n\u001b[1;32m---> <a href='vscode-notebook-cell:/d%3A/Code/UJ/effective_python/effective_python/presentation-ObjectivePython/presentation.ipynb#Y112sZmlsZQ%3D%3D?line=18'>19</a>\u001b[0m \u001b[39mprint\u001b[39m(book1\u001b[39m.\u001b[39;49m__discount)\n",
      "\u001b[1;31mAttributeError\u001b[0m: 'Book' object has no attribute '__discount'"
     ]
    }
   ],
   "source": [
    "class Book:\n",
    "    def __init__(self, title, quantity, author, price):\n",
    "        self.title = title\n",
    "        self.quantity = quantity\n",
    "        self.author = author\n",
    "        self.price = price\n",
    "        self.__discount = 0.10\n",
    "\n",
    "    def __repr__(self):\n",
    "        return f\"Book: {self.title}, Quantity: {self.quantity}, Author: {self.author}, Price: {self.price}\"\n",
    "\n",
    "\n",
    "book1 = Book('Book 1', 12, 'Author 1', 120)\n",
    "\n",
    "print(book1.title)\n",
    "print(book1.quantity)\n",
    "print(book1.author)\n",
    "print(book1.price)\n",
    "print(book1.__discount)"
   ]
  },
  {
   "attachments": {},
   "cell_type": "markdown",
   "metadata": {},
   "source": [
    "#### Abstraction"
   ]
  },
  {
   "cell_type": "code",
   "execution_count": 15,
   "metadata": {},
   "outputs": [
    {
     "ename": "TypeError",
     "evalue": "Can't instantiate abstract class AbstractClassExample with abstract method do_something",
     "output_type": "error",
     "traceback": [
      "\u001b[1;31m---------------------------------------------------------------------------\u001b[0m",
      "\u001b[1;31mTypeError\u001b[0m                                 Traceback (most recent call last)",
      "\u001b[1;32md:\\Code\\UJ\\effective_python\\effective_python\\presentation-ObjectivePython\\presentation.ipynb Komórka 59\u001b[0m in \u001b[0;36m<cell line: 14>\u001b[1;34m()\u001b[0m\n\u001b[0;32m     <a href='vscode-notebook-cell:/d%3A/Code/UJ/effective_python/effective_python/presentation-ObjectivePython/presentation.ipynb#X62sZmlsZQ%3D%3D?line=9'>10</a>\u001b[0m     \u001b[39m@abstractmethod\u001b[39m\n\u001b[0;32m     <a href='vscode-notebook-cell:/d%3A/Code/UJ/effective_python/effective_python/presentation-ObjectivePython/presentation.ipynb#X62sZmlsZQ%3D%3D?line=10'>11</a>\u001b[0m     \u001b[39mdef\u001b[39;00m \u001b[39mdo_something\u001b[39m(\u001b[39mself\u001b[39m):\n\u001b[0;32m     <a href='vscode-notebook-cell:/d%3A/Code/UJ/effective_python/effective_python/presentation-ObjectivePython/presentation.ipynb#X62sZmlsZQ%3D%3D?line=11'>12</a>\u001b[0m         \u001b[39mpass\u001b[39;00m\n\u001b[1;32m---> <a href='vscode-notebook-cell:/d%3A/Code/UJ/effective_python/effective_python/presentation-ObjectivePython/presentation.ipynb#X62sZmlsZQ%3D%3D?line=13'>14</a>\u001b[0m x \u001b[39m=\u001b[39m AbstractClassExample()\n\u001b[0;32m     <a href='vscode-notebook-cell:/d%3A/Code/UJ/effective_python/effective_python/presentation-ObjectivePython/presentation.ipynb#X62sZmlsZQ%3D%3D?line=14'>15</a>\u001b[0m x\u001b[39m.\u001b[39mdo_something()\n",
      "\u001b[1;31mTypeError\u001b[0m: Can't instantiate abstract class AbstractClassExample with abstract method do_something"
     ]
    }
   ],
   "source": [
    "from abc import ABC, abstractmethod\n",
    " \n",
    "class AbstractClassExample(ABC):\n",
    " \n",
    "    def __init__(self, value):\n",
    "        self.value = value\n",
    "        super().__init__()\n",
    "    \n",
    "    @abstractmethod\n",
    "    def do_something(self):\n",
    "        pass\n",
    "\n",
    "x = AbstractClassExample()\n",
    "x.do_something()"
   ]
  },
  {
   "cell_type": "code",
   "execution_count": 16,
   "metadata": {},
   "outputs": [
    {
     "name": "stdout",
     "output_type": "stream",
     "text": [
      "52\n",
      "420\n"
     ]
    }
   ],
   "source": [
    "class DoAdd42(AbstractClassExample):\n",
    "\n",
    "    def do_something(self):\n",
    "        return self.value + 42\n",
    "    \n",
    "class DoMul42(AbstractClassExample):\n",
    "   \n",
    "    def do_something(self):\n",
    "        return self.value * 42\n",
    "    \n",
    "x = DoAdd42(10)\n",
    "y = DoMul42(10)\n",
    "\n",
    "print(x.do_something())\n",
    "print(y.do_something())"
   ]
  },
  {
   "attachments": {},
   "cell_type": "markdown",
   "metadata": {},
   "source": [
    "##### Diamond problem"
   ]
  },
  {
   "attachments": {},
   "cell_type": "markdown",
   "metadata": {},
   "source": [
    "![alt text](Diamond1.png)"
   ]
  },
  {
   "cell_type": "code",
   "execution_count": 37,
   "metadata": {},
   "outputs": [
    {
     "name": "stdout",
     "output_type": "stream",
     "text": [
      "In Class2\n"
     ]
    }
   ],
   "source": [
    "class Class1:\n",
    "    def m(self):\n",
    "        print(\"In Class1\")\n",
    "       \n",
    "class Class2(Class1):\n",
    "    def m(self):\n",
    "        print(\"In Class2\")\n",
    " \n",
    "class Class3(Class1):\n",
    "    def m(self):\n",
    "        print(\"In Class3\") \n",
    "        \n",
    "class Class4(Class2, Class3): #invert\n",
    "    pass  \n",
    "     \n",
    "obj = Class4()\n",
    "obj.m()"
   ]
  },
  {
   "attachments": {},
   "cell_type": "markdown",
   "metadata": {},
   "source": [
    "When the method is overridden in one of the classes"
   ]
  },
  {
   "cell_type": "code",
   "execution_count": 19,
   "metadata": {},
   "outputs": [
    {
     "name": "stdout",
     "output_type": "stream",
     "text": [
      "In Class3\n"
     ]
    }
   ],
   "source": [
    "class Class1:\n",
    "    def m(self):\n",
    "        print(\"In Class1\")\n",
    "       \n",
    "class Class2(Class1):\n",
    "    pass\n",
    " \n",
    "class Class3(Class1):\n",
    "    def m(self):\n",
    "        print(\"In Class3\")   \n",
    "      \n",
    "class Class4(Class2, Class3):\n",
    "    pass      \n",
    " \n",
    "obj = Class4()\n",
    "obj.m()"
   ]
  },
  {
   "attachments": {},
   "cell_type": "markdown",
   "metadata": {},
   "source": [
    "When every class defines the same method"
   ]
  },
  {
   "cell_type": "code",
   "execution_count": 20,
   "metadata": {},
   "outputs": [
    {
     "name": "stdout",
     "output_type": "stream",
     "text": [
      "In Class4\n",
      "In Class2\n",
      "In Class3\n",
      "In Class1\n"
     ]
    }
   ],
   "source": [
    "class Class1:\n",
    "    def m(self):\n",
    "        print(\"In Class1\")\n",
    "       \n",
    "class Class2(Class1):\n",
    "    def m(self):\n",
    "        print(\"In Class2\")\n",
    " \n",
    "class Class3(Class1):\n",
    "    def m(self):\n",
    "         print(\"In Class3\")    \n",
    "     \n",
    "class Class4(Class2, Class3):\n",
    "    def m(self):\n",
    "        print(\"In Class4\")  \n",
    " \n",
    "obj = Class4()\n",
    "obj.m()\n",
    " \n",
    "Class2.m(obj)\n",
    "Class3.m(obj)\n",
    "Class1.m(obj)"
   ]
  },
  {
   "cell_type": "code",
   "execution_count": 21,
   "metadata": {},
   "outputs": [
    {
     "name": "stdout",
     "output_type": "stream",
     "text": [
      "In Class4\n",
      "In Class2\n",
      "In Class1\n",
      "In Class3\n",
      "In Class1\n"
     ]
    }
   ],
   "source": [
    "class Class1:\n",
    "    def m(self):\n",
    "        print(\"In Class1\")  \n",
    "     \n",
    "class Class2(Class1):\n",
    "    def m(self):\n",
    "        print(\"In Class2\")\n",
    "        Class1.m(self)\n",
    " \n",
    "class Class3(Class1):\n",
    "    def m(self):\n",
    "        print(\"In Class3\")\n",
    "        Class1.m(self)  \n",
    "      \n",
    "class Class4(Class2, Class3):\n",
    "    def m(self):\n",
    "        print(\"In Class4\")  \n",
    "        Class2.m(self)\n",
    "        Class3.m(self)\n",
    "      \n",
    "obj = Class4()\n",
    "obj.m()"
   ]
  },
  {
   "attachments": {},
   "cell_type": "markdown",
   "metadata": {},
   "source": [
    "The super function"
   ]
  },
  {
   "cell_type": "code",
   "execution_count": 22,
   "metadata": {},
   "outputs": [
    {
     "name": "stdout",
     "output_type": "stream",
     "text": [
      "In Class4\n",
      "In Class2\n",
      "In Class3\n",
      "In Class1\n"
     ]
    }
   ],
   "source": [
    "class Class1:\n",
    "    def m(self):\n",
    "        print(\"In Class1\")\n",
    " \n",
    "class Class2(Class1):\n",
    "    def m(self):\n",
    "        print(\"In Class2\")\n",
    "        super().m()\n",
    " \n",
    "class Class3(Class1):\n",
    "    def m(self):\n",
    "        print(\"In Class3\")\n",
    "        super().m()\n",
    " \n",
    "class Class4(Class2, Class3):\n",
    "    def m(self):\n",
    "        print(\"In Class4\")  \n",
    "        super().m()\n",
    "      \n",
    "obj = Class4()\n",
    "obj.m()"
   ]
  },
  {
   "attachments": {},
   "cell_type": "markdown",
   "metadata": {},
   "source": [
    "In Python, every class whether built-in or user-defined is derived from the object class and all the objects are instances of the class object. Hence, the object class is the base class for all the other classes.\n",
    "In the case of multiple inheritance, a given attribute is first searched in the current class if it’s not found then it’s searched in the parent classes. The parent classes are searched in a left-right fashion and each class is searched once.\n",
    "If we see the above example then the order of search for the attributes will be Derived, Base1, Base2, object. The order that is followed is known as a linearization of the class Derived and this order is found out using a set of rules called Method Resolution Order (MRO)."
   ]
  },
  {
   "cell_type": "code",
   "execution_count": 24,
   "metadata": {},
   "outputs": [
    {
     "name": "stdout",
     "output_type": "stream",
     "text": [
      "[<class '__main__.Class4'>, <class '__main__.Class2'>, <class '__main__.Class3'>, <class '__main__.Class1'>, <class 'object'>]\n"
     ]
    }
   ],
   "source": [
    "class Class1:\n",
    "    def m(self):\n",
    "        print(\"In Class1\")\n",
    " \n",
    "class Class2(Class1):\n",
    "    def m(self):\n",
    "        print(\"In Class2\")\n",
    "        super().m()\n",
    " \n",
    "class Class3(Class1):\n",
    "    def m(self):\n",
    "        print(\"In Class3\")\n",
    "        super().m()\n",
    " \n",
    "class Class4(Class2, Class3):\n",
    "    def m(self):\n",
    "        print(\"In Class4\")  \n",
    "        super().m()\n",
    "      \n",
    "print(Class4.mro())         #This will print list"
   ]
  },
  {
   "attachments": {},
   "cell_type": "markdown",
   "metadata": {},
   "source": [
    "Resources"
   ]
  },
  {
   "attachments": {},
   "cell_type": "markdown",
   "metadata": {},
   "source": [
    "https://rszalski.github.io/magicmethods/\n",
    "\n",
    "https://www.geeksforgeeks.org/multiple-inheritance-in-python/\n",
    "\n",
    "https://www.tutorialsteacher.com/python/magic-methods-in-python\n",
    "\n",
    "https://www.freecodecamp.org/news/object-oriented-programming-in-python/\n",
    "\n",
    "https://www.geeksforgeeks.org/multiple-inheritance-in-python/\n",
    "\n",
    "https://coderslegacy.com/python/advanced-python-classes/"
   ]
  }
 ],
 "metadata": {
  "kernelspec": {
   "display_name": "Python 3",
   "language": "python",
   "name": "python3"
  },
  "language_info": {
   "codemirror_mode": {
    "name": "ipython",
    "version": 3
   },
   "file_extension": ".py",
   "mimetype": "text/x-python",
   "name": "python",
   "nbconvert_exporter": "python",
   "pygments_lexer": "ipython3",
   "version": "3.10.2"
  },
  "orig_nbformat": 4,
  "vscode": {
   "interpreter": {
    "hash": "26de051ba29f2982a8de78e945f0abaf191376122a1563185a90213a26c5da77"
   }
  }
 },
 "nbformat": 4,
 "nbformat_minor": 2
}
