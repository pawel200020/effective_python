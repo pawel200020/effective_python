{
 "cells": [
  {
   "cell_type": "code",
   "execution_count": 7,
   "metadata": {},
   "outputs": [
    {
     "name": "stdout",
     "output_type": "stream",
     "text": [
      "kox\n",
      "siema jestm kamil 999-999-034, aaaa\n"
     ]
    }
   ],
   "source": [
    "import re\n",
    "pattern = re.compile(\"[0-9][0-9][0-9].[0-9][0-9][0-9].[0-9][0-9][0-9]$\")\n",
    "line ='222.333.444'\n",
    "if(re.fullmatch(pattern, line)):\n",
    "    print('kox')\n",
    "if(re.match(pattern, line)):\n",
    "    print('kox')\n",
    "print(re.sub(pattern,\"*** *** ***\",'siema jestm kamil 999-999-034, aaaa')) #zamiana ze stringa regexowego na coś innego"
   ]
  }
 ],
 "metadata": {
  "kernelspec": {
   "display_name": "Python 3",
   "language": "python",
   "name": "python3"
  },
  "language_info": {
   "codemirror_mode": {
    "name": "ipython",
    "version": 3
   },
   "file_extension": ".py",
   "mimetype": "text/x-python",
   "name": "python",
   "nbconvert_exporter": "python",
   "pygments_lexer": "ipython3",
   "version": "3.10.2"
  },
  "orig_nbformat": 4,
  "vscode": {
   "interpreter": {
    "hash": "26de051ba29f2982a8de78e945f0abaf191376122a1563185a90213a26c5da77"
   }
  }
 },
 "nbformat": 4,
 "nbformat_minor": 2
}
