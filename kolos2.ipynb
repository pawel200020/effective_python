{
 "cells": [
  {
   "cell_type": "code",
   "execution_count": 2,
   "metadata": {},
   "outputs": [
    {
     "data": {
      "image/png": "[encoded data removed]",
      "text/plain": [
       "<Figure size 144x144 with 1 Axes>"
      ]
     },
     "metadata": {
      "needs_background": "light"
     },
     "output_type": "display_data"
    }
   ],
   "source": [
    "import matplotlib.pyplot as plt\n",
    "import numpy as np\n",
    "\n",
    "plt.style.use('_mpl-gallery-nogrid')\n",
    "\n",
    "\n",
    "# make data\n",
    "x = [7, 1]\n",
    "colors = plt.get_cmap('Reds')(np.linspace(0.2, 0.7, len(x)))\n",
    "# plot\n",
    "fig, ax = plt.subplots()\n",
    "ax.pie(x, colors=['orange','white'], radius=3, center=(4, 4),\n",
    "       wedgeprops={\"linewidth\": 1, \"edgecolor\": \"white\"}, frame=True, startangle=90)\n",
    "\n",
    "ax.set(xlim=(0, 8), xticks=np.arange(1, 8),\n",
    "       ylim=(0, 8), yticks=np.arange(1, 8))\n",
    "\n",
    "plt.show()"
   ]
  },
  {
   "cell_type": "code",
   "execution_count": 3,
   "metadata": {},
   "outputs": [
    {
     "data": {
      "text/plain": [
       "15"
      ]
     },
     "execution_count": 3,
     "metadata": {},
     "output_type": "execute_result"
    }
   ],
   "source": [
    "def get_trace(A):\n",
    "    return np.trace(A)\n",
    "A = np.array([[1,2,3], [4,5,6], [7,8,9]])\n",
    "get_trace(A)"
   ]
  },
  {
   "attachments": {},
   "cell_type": "markdown",
   "metadata": {},
   "source": [
    "y = sin(x)+1/(x+1)+13"
   ]
  },
  {
   "cell_type": "code",
   "execution_count": 5,
   "metadata": {},
   "outputs": [
    {
     "data": {
      "image/png": "[encoded data removed]",
      "text/plain": [
       "<Figure size 144x144 with 1 Axes>"
      ]
     },
     "metadata": {
      "needs_background": "light"
     },
     "output_type": "display_data"
    }
   ],
   "source": [
    "ax = plt.subplot()\n",
    "\n",
    "t = np.arange(0.0, 10.0, 0.01)\n",
    "s = np.sin(t)+1/(t+1)+13\n",
    "line, = plt.plot(t, s, lw=2)\n",
    "\n",
    "plt.ylim(-2, 2)\n",
    "plt.show()"
   ]
  },
  {
   "cell_type": "code",
   "execution_count": 8,
   "metadata": {},
   "outputs": [
    {
     "data": {
      "image/png": "[encoded data removed]",
      "text/plain": [
       "<Figure size 540x252 with 1 Axes>"
      ]
     },
     "metadata": {
      "needs_background": "light"
     },
     "output_type": "display_data"
    }
   ],
   "source": [
    "import numpy as np\n",
    "from matplotlib import pyplot as plt\n",
    "\n",
    "\n",
    "def f(x):\n",
    "   return np.sin(x)+1/(x+1)+13\n",
    "\n",
    "x = np.linspace(0, 10, 100)\n",
    "\n",
    "plt.plot(x, f(x), color='red')\n",
    "\n",
    "plt.show()"
   ]
  },
  {
   "cell_type": "code",
   "execution_count": 11,
   "metadata": {},
   "outputs": [
    {
     "data": {
      "text/plain": [
       "array([[ 4,  5,  6],\n",
       "       [ 8, 10, 12],\n",
       "       [12, 15, 18]])"
      ]
     },
     "execution_count": 11,
     "metadata": {},
     "output_type": "execute_result"
    }
   ],
   "source": [
    "import itertools\n",
    "list(itertools.product(np.array([1,2,3]), np.array([4,5,6])))\n",
    "np.outer(np.array([1,2,3]), np.array([4,5,6]))"
   ]
  },
  {
   "cell_type": "code",
   "execution_count": 12,
   "metadata": {},
   "outputs": [
    {
     "data": {
      "text/plain": [
       "array([[ 4,  5,  6],\n",
       "       [ 8, 10, 12],\n",
       "       [12, 15, 18]])"
      ]
     },
     "execution_count": 12,
     "metadata": {},
     "output_type": "execute_result"
    }
   ],
   "source": [
    "def outer_product(vec1, vec2):\n",
    "    return (np.outer(vec1, vec2))\n",
    "\n",
    "outer_product(np.array([1,2,3]), np.array([4,5,6]))"
   ]
  },
  {
   "attachments": {},
   "cell_type": "markdown",
   "metadata": {},
   "source": [
    "Stwórz macierz z wartościami losowymi o wymiarze 100 wierszy i 5 kolumn, zamień ją na DataFrame pandas, dodaj kolumne będącą sumą pozostałych"
   ]
  },
  {
   "cell_type": "code",
   "execution_count": 16,
   "metadata": {},
   "outputs": [
    {
     "data": {
      "text/html": [
       "<div>\n",
       "<style scoped>\n",
       "    .dataframe tbody tr th:only-of-type {\n",
       "        vertical-align: middle;\n",
       "    }\n",
       "\n",
       "    .dataframe tbody tr th {\n",
       "        vertical-align: top;\n",
       "    }\n",
       "\n",
       "    .dataframe thead th {\n",
       "        text-align: right;\n",
       "    }\n",
       "</style>\n",
       "<table border=\"1\" class=\"dataframe\">\n",
       "  <thead>\n",
       "    <tr style=\"text-align: right;\">\n",
       "      <th></th>\n",
       "      <th>A</th>\n",
       "      <th>B</th>\n",
       "      <th>C</th>\n",
       "      <th>D</th>\n",
       "      <th>E</th>\n",
       "      <th>Sum</th>\n",
       "    </tr>\n",
       "  </thead>\n",
       "  <tbody>\n",
       "    <tr>\n",
       "      <th>0</th>\n",
       "      <td>4</td>\n",
       "      <td>2</td>\n",
       "      <td>1</td>\n",
       "      <td>2</td>\n",
       "      <td>1</td>\n",
       "      <td>10</td>\n",
       "    </tr>\n",
       "    <tr>\n",
       "      <th>1</th>\n",
       "      <td>3</td>\n",
       "      <td>2</td>\n",
       "      <td>3</td>\n",
       "      <td>4</td>\n",
       "      <td>3</td>\n",
       "      <td>15</td>\n",
       "    </tr>\n",
       "    <tr>\n",
       "      <th>2</th>\n",
       "      <td>4</td>\n",
       "      <td>2</td>\n",
       "      <td>4</td>\n",
       "      <td>3</td>\n",
       "      <td>4</td>\n",
       "      <td>17</td>\n",
       "    </tr>\n",
       "    <tr>\n",
       "      <th>3</th>\n",
       "      <td>0</td>\n",
       "      <td>0</td>\n",
       "      <td>2</td>\n",
       "      <td>3</td>\n",
       "      <td>2</td>\n",
       "      <td>7</td>\n",
       "    </tr>\n",
       "    <tr>\n",
       "      <th>4</th>\n",
       "      <td>1</td>\n",
       "      <td>1</td>\n",
       "      <td>1</td>\n",
       "      <td>2</td>\n",
       "      <td>3</td>\n",
       "      <td>8</td>\n",
       "    </tr>\n",
       "    <tr>\n",
       "      <th>...</th>\n",
       "      <td>...</td>\n",
       "      <td>...</td>\n",
       "      <td>...</td>\n",
       "      <td>...</td>\n",
       "      <td>...</td>\n",
       "      <td>...</td>\n",
       "    </tr>\n",
       "    <tr>\n",
       "      <th>95</th>\n",
       "      <td>4</td>\n",
       "      <td>1</td>\n",
       "      <td>1</td>\n",
       "      <td>3</td>\n",
       "      <td>0</td>\n",
       "      <td>9</td>\n",
       "    </tr>\n",
       "    <tr>\n",
       "      <th>96</th>\n",
       "      <td>2</td>\n",
       "      <td>3</td>\n",
       "      <td>2</td>\n",
       "      <td>3</td>\n",
       "      <td>0</td>\n",
       "      <td>10</td>\n",
       "    </tr>\n",
       "    <tr>\n",
       "      <th>97</th>\n",
       "      <td>3</td>\n",
       "      <td>3</td>\n",
       "      <td>1</td>\n",
       "      <td>4</td>\n",
       "      <td>4</td>\n",
       "      <td>15</td>\n",
       "    </tr>\n",
       "    <tr>\n",
       "      <th>98</th>\n",
       "      <td>2</td>\n",
       "      <td>4</td>\n",
       "      <td>4</td>\n",
       "      <td>1</td>\n",
       "      <td>4</td>\n",
       "      <td>15</td>\n",
       "    </tr>\n",
       "    <tr>\n",
       "      <th>99</th>\n",
       "      <td>0</td>\n",
       "      <td>0</td>\n",
       "      <td>4</td>\n",
       "      <td>3</td>\n",
       "      <td>1</td>\n",
       "      <td>8</td>\n",
       "    </tr>\n",
       "  </tbody>\n",
       "</table>\n",
       "<p>100 rows × 6 columns</p>\n",
       "</div>"
      ],
      "text/plain": [
       "    A  B  C  D  E  Sum\n",
       "0   4  2  1  2  1   10\n",
       "1   3  2  3  4  3   15\n",
       "2   4  2  4  3  4   17\n",
       "3   0  0  2  3  2    7\n",
       "4   1  1  1  2  3    8\n",
       ".. .. .. .. .. ..  ...\n",
       "95  4  1  1  3  0    9\n",
       "96  2  3  2  3  0   10\n",
       "97  3  3  1  4  4   15\n",
       "98  2  4  4  1  4   15\n",
       "99  0  0  4  3  1    8\n",
       "\n",
       "[100 rows x 6 columns]"
      ]
     },
     "metadata": {},
     "output_type": "display_data"
    }
   ],
   "source": [
    "import pandas as pd\n",
    "A = np.random.randint(5, size=(100, 5))\n",
    "dataset = pd.DataFrame({'A': A[:,0], 'B': A[:,1], 'C': A[:,2],'D': A[:,3], 'E': A[:,4]})\n",
    "dataset['Sum']=dataset[np.array(['A','B','C','D','E'])].sum(axis=1)\n",
    "display(dataset)"
   ]
  },
  {
   "cell_type": "code",
   "execution_count": 17,
   "metadata": {},
   "outputs": [
    {
     "name": "stdout",
     "output_type": "stream",
     "text": [
      "True\n",
      "True\n",
      "True\n"
     ]
    }
   ],
   "source": [
    "import numpy as np\n",
    "import pandas as pd\n",
    "def foo():\n",
    "    A = np.random.randint(5, size=(100, 5))\n",
    "    dataset = pd.DataFrame({'A': A[:,0], 'B': A[:,1], 'C': A[:,2],'D': A[:,3], 'E': A[:,4]})\n",
    "    dataset['Sum']=dataset[np.array(['A','B','C','D','E'])].sum(axis=1)\n",
    "    return dataset\n",
    "\n",
    "df = foo()\n",
    "print(df.shape == (100,6))\n",
    "print(all(df.iloc[:,:-1].sum(axis=1) == df.iloc[:,-1]))\n",
    "print(type(df) == pd.core.frame.DataFrame)"
   ]
  },
  {
   "cell_type": "code",
   "execution_count": 28,
   "metadata": {},
   "outputs": [
    {
     "name": "stdout",
     "output_type": "stream",
     "text": [
      "[0 0 0 0 0 0 0 0 0 0]\n"
     ]
    }
   ],
   "source": [
    "import numpy as np\n",
    "X1 = np.arange(100).reshape(10, 10)\n",
    "X2 = np.arange(100).reshape(10, 10)\n",
    "\n",
    "print(np.square(X1- X2).sum(1))"
   ]
  },
  {
   "cell_type": "code",
   "execution_count": 37,
   "metadata": {},
   "outputs": [
    {
     "name": "stdout",
     "output_type": "stream",
     "text": [
      "[1, 8]\n"
     ]
    }
   ],
   "source": [
    "def get_common(arr1, arr2):\n",
    "    return sorted(set(arr1) & set(arr2))\n",
    "\n",
    "\n",
    "print(get_common(np.array([1,1,8,4,5,4,1]), np.array([1,3,8,7,6,3,1])))\n",
    "#assert list(get_common(np.array([1,1,8,4,5,4,1]), np.array([1,3,8,7,6,3,1]))) == [1,8]"
   ]
  },
  {
   "cell_type": "code",
   "execution_count": 38,
   "metadata": {},
   "outputs": [
    {
     "data": {
      "text/plain": [
       "2"
      ]
     },
     "execution_count": 38,
     "metadata": {},
     "output_type": "execute_result"
    }
   ],
   "source": [
    "class A(object):\n",
    "    counter = 0\n",
    "    def __init__(self):\n",
    "        A.counter += 1\n",
    "A()\n",
    "A()\n",
    "A.counter\n",
    "    "
   ]
  },
  {
   "cell_type": "code",
   "execution_count": 40,
   "metadata": {},
   "outputs": [
    {
     "data": {
      "text/plain": [
       "0     Ala\n",
       "1      Ma\n",
       "2    Kota\n",
       "dtype: object"
      ]
     },
     "execution_count": 40,
     "metadata": {},
     "output_type": "execute_result"
    }
   ],
   "source": [
    "def series_uppercase(series):\n",
    "    return series.str.capitalize()\n",
    "\n",
    "s1 = pd.Series(['Ala', 'ma', 'kota'])\n",
    "\n",
    "series_uppercase(s1)\n",
    "\n"
   ]
  },
  {
   "cell_type": "code",
   "execution_count": null,
   "metadata": {},
   "outputs": [],
   "source": [
    "def get_series_at_positions(series, pos):\n",
    "  series\n",
    "\n",
    "\n",
    "  s1 = pd.Series([1, 2, 3, 4, 5, 6])\n",
    "\n",
    "assert list(get_series_at_positions(s1, [0, 2, 4])) == [1,3,5]"
   ]
  },
  {
   "cell_type": "code",
   "execution_count": 43,
   "metadata": {},
   "outputs": [
    {
     "data": {
      "text/plain": [
       "[1, 3, 5]"
      ]
     },
     "execution_count": 43,
     "metadata": {},
     "output_type": "execute_result"
    }
   ],
   "source": [
    "s1 = pd.Series([1, 2, 3, 4, 5, 6])\n",
    "\n",
    "def get_series_at_positions(series, pos):\n",
    "    return pd.Series(series, index =pos).array\n",
    "\n",
    "\n",
    "list(get_series_at_positions(s1, [0, 2, 4]))"
   ]
  },
  {
   "cell_type": "code",
   "execution_count": null,
   "metadata": {},
   "outputs": [],
   "source": [
    "import numpy as np\n",
    "import pandas as pd\n",
    "def foo():\n",
    "    A = np.random.randint(5, size=(100, 5))\n",
    "    dataset = pd.DataFrame({'A': A[:,0], 'B': A[:,1], 'C': A[:,2],'D': A[:,3], 'E': A[:,4]})\n",
    "    dataset['Sum']=dataset[np.array(['A','B','C','D','E'])].sum(axis=1)\n",
    "    return dataset\n",
    "\n",
    "df = foo()\n",
    "print(df.shape == (100,6))\n",
    "print(all(df.iloc[:,:-1].sum(axis=1) == df.iloc[:,-1]))\n",
    "print(type(df) == pd.core.frame.DataFrame)\n",
    "\n",
    "def add_min_max(df):\n",
    "    df['max'] = df.max(1)\n",
    "    df['min'] = df.min(1)\n",
    "    return df"
   ]
  },
  {
   "cell_type": "code",
   "execution_count": 54,
   "metadata": {},
   "outputs": [],
   "source": [
    "df = pd.DataFrame(np.random.randint(1,50, 40).reshape(-1, 4))"
   ]
  },
  {
   "cell_type": "code",
   "execution_count": 55,
   "metadata": {},
   "outputs": [
    {
     "name": "stdout",
     "output_type": "stream",
     "text": [
      "    0   1   2   3  max  min\n",
      "0  23   9  38  28   38    9\n",
      "1   9   1  49  31   49    1\n",
      "2  37  45  24  46   46   24\n",
      "3   1  16  11   6   16    1\n",
      "4  45  11  45  32   45   11\n",
      "5  44  28   5  30   44    5\n",
      "6  25   8  30  30   30    8\n",
      "7  47  28  28   3   47    3\n",
      "8  23  11  25  18   25   11\n",
      "9  29   7  26  41   41    7\n"
     ]
    }
   ],
   "source": [
    "df\n",
    "df['max'] = df.max(1)\n",
    "df['min'] = df.min(1)\n",
    "print(df)"
   ]
  },
  {
   "cell_type": "code",
   "execution_count": 60,
   "metadata": {},
   "outputs": [
    {
     "name": "stdout",
     "output_type": "stream",
     "text": [
      "[ 0  1  2  3  4  5  6  7  8  9 10 11 12 13 14 15 16 17 18 19 20 21 22 23\n",
      " 24 25 26 27 28 29 30 31 32 33 34 35 36 37 38 39 40 41 42 43 44 45 46 47\n",
      " 48 49 50 51 52 53 54 55 56 57 58 59 60 61 62 63 64 65 66 67 68 69 70 71\n",
      " 72 73 74 75 76 77 78 79 80 81 82 83 84 85 86 87 88 89 90 91 92 93 94 95\n",
      " 96 97 98 99]\n"
     ]
    },
    {
     "ename": "UFuncTypeError",
     "evalue": "Cannot cast ufunc 'true_divide' output from dtype('float64') to dtype('int32') with casting rule 'same_kind'",
     "output_type": "error",
     "traceback": [
      "\u001b[1;31m---------------------------------------------------------------------------\u001b[0m",
      "\u001b[1;31mUFuncTypeError\u001b[0m                            Traceback (most recent call last)",
      "\u001b[1;32md:\\Code\\UJ\\effective_python\\effective_python\\kolos2.ipynb Komórka 20\u001b[0m in \u001b[0;36m<cell line: 8>\u001b[1;34m()\u001b[0m\n\u001b[0;32m      <a href='vscode-notebook-cell:/d%3A/Code/UJ/effective_python/effective_python/kolos2.ipynb#X25sZmlsZQ%3D%3D?line=5'>6</a>\u001b[0m a\u001b[39m=\u001b[39m np\u001b[39m.\u001b[39marange(\u001b[39m100\u001b[39m)\n\u001b[0;32m      <a href='vscode-notebook-cell:/d%3A/Code/UJ/effective_python/effective_python/kolos2.ipynb#X25sZmlsZQ%3D%3D?line=6'>7</a>\u001b[0m \u001b[39mprint\u001b[39m(a)\n\u001b[1;32m----> <a href='vscode-notebook-cell:/d%3A/Code/UJ/effective_python/effective_python/kolos2.ipynb#X25sZmlsZQ%3D%3D?line=7'>8</a>\u001b[0m \u001b[39mprint\u001b[39m(rescale(a))\n",
      "\u001b[1;32md:\\Code\\UJ\\effective_python\\effective_python\\kolos2.ipynb Komórka 20\u001b[0m in \u001b[0;36mrescale\u001b[1;34m(X)\u001b[0m\n\u001b[0;32m      <a href='vscode-notebook-cell:/d%3A/Code/UJ/effective_python/effective_python/kolos2.ipynb#X25sZmlsZQ%3D%3D?line=2'>3</a>\u001b[0m \u001b[39mdef\u001b[39;00m \u001b[39mrescale\u001b[39m(X):\n\u001b[1;32m----> <a href='vscode-notebook-cell:/d%3A/Code/UJ/effective_python/effective_python/kolos2.ipynb#X25sZmlsZQ%3D%3D?line=3'>4</a>\u001b[0m     X\u001b[39m/\u001b[39m\u001b[39m=\u001b[39m X\u001b[39m.\u001b[39mmax()\u001b[39m/\u001b[39m\u001b[39m255\u001b[39m\n",
      "\u001b[1;31mUFuncTypeError\u001b[0m: Cannot cast ufunc 'true_divide' output from dtype('float64') to dtype('int32') with casting rule 'same_kind'"
     ]
    }
   ],
   "source": [
    "import numpy as np\n",
    "\n",
    "def rescale(X):\n",
    "    X/= X.max()/255\n",
    "    \n",
    "a= np.arange(100)\n",
    "print(a)\n",
    "print(rescale(a))"
   ]
  },
  {
   "cell_type": "code",
   "execution_count": 63,
   "metadata": {},
   "outputs": [
    {
     "name": "stdout",
     "output_type": "stream",
     "text": [
      "{0, 1, 3, 4, 8}\n"
     ]
    }
   ],
   "source": [
    "def get_union(arr1, arr2):\n",
    "    return set(arr1 & arr2)\n",
    "print(get_union(np.array([1,1,8,3,5,4,1]), np.array([1,3,8,7,6,3,1])))"
   ]
  },
  {
   "cell_type": "code",
   "execution_count": null,
   "metadata": {},
   "outputs": [],
   "source": [
    "import numpy as np\n",
    "import pandas as pd\n",
    "from scipy.stats import truncnorm\n",
    "def get_truncated_normal(mean=0, sd=1, low=0, upp=10):\n",
    "    return truncnorm((low - mean) / sd, (upp - mean) / sd, loc=mean, scale=sd)\n",
    "def foo():\n",
    "    a = np"
   ]
  },
  {
   "cell_type": "code",
   "execution_count": null,
   "metadata": {},
   "outputs": [],
   "source": [
    "class A(object):\n",
    "\n",
    "  def __init__(self, d):\n",
    "    self.d = d  "
   ]
  },
  {
   "cell_type": "code",
   "execution_count": null,
   "metadata": {},
   "outputs": [],
   "source": [
    "d = {'a': [1,2,3], 'b': 6}\n",
    "obj = A(d)\n",
    "\n",
    "assert eval(repr(obj)).d == d"
   ]
  }
 ],
 "metadata": {
  "kernelspec": {
   "display_name": "Python 3",
   "language": "python",
   "name": "python3"
  },
  "language_info": {
   "codemirror_mode": {
    "name": "ipython",
    "version": 3
   },
   "file_extension": ".py",
   "mimetype": "text/x-python",
   "name": "python",
   "nbconvert_exporter": "python",
   "pygments_lexer": "ipython3",
   "version": "3.10.2 (tags/v3.10.2:a58ebcc, Jan 17 2022, 14:12:15) [MSC v.1929 64 bit (AMD64)]"
  },
  "orig_nbformat": 4,
  "vscode": {
   "interpreter": {
    "hash": "26de051ba29f2982a8de78e945f0abaf191376122a1563185a90213a26c5da77"
   }
  }
 },
 "nbformat": 4,
 "nbformat_minor": 2
}
